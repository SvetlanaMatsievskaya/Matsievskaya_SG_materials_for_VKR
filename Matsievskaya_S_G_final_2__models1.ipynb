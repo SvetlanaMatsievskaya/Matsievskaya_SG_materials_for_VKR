{
  "cells": [
    {
      "cell_type": "markdown",
      "id": "11f25ced",
      "metadata": {
        "toc": true,
        "id": "11f25ced"
      },
      "source": [
        "<h1>Table of Contents<span class=\"tocSkip\"></span></h1>\n",
        "<div class=\"toc\"><ul class=\"toc-item\"><li><span><a href=\"#Разработка-и-обучение-нескольких-моделей-для-прогноза-прочности-при-растяжении\" data-toc-modified-id=\"Разработка-и-обучение-нескольких-моделей-для-прогноза-прочности-при-растяжении-1\"><span class=\"toc-item-num\">1&nbsp;&nbsp;</span>Разработка и обучение нескольких моделей для прогноза прочности при растяжении</a></span><ul class=\"toc-item\"><li><span><a href=\"#Прогнозируем-прочность-при-растяжении\" data-toc-modified-id=\"Прогнозируем-прочность-при-растяжении-1.1\"><span class=\"toc-item-num\">1.1&nbsp;&nbsp;</span>Прогнозируем прочность при растяжении</a></span></li></ul></li></ul></div>"
      ]
    },
    {
      "cell_type": "markdown",
      "id": "de06f435",
      "metadata": {
        "id": "de06f435"
      },
      "source": [
        "# Продолжение кода по композитным материалам"
      ]
    },
    {
      "cell_type": "code",
      "execution_count": null,
      "id": "ec2fa9f7",
      "metadata": {
        "id": "ec2fa9f7"
      },
      "outputs": [],
      "source": [
        "import numpy as np\n",
        "import pandas as pd\n",
        "import matplotlib.pyplot as plt\n",
        "import tensorflow as tf\n",
        "import seaborn as sns\n",
        "import plotly.express as px\n",
        "import tensorflow as tf\n",
        "import sklearn\n",
        "\n",
        "from sklearn import linear_model\n",
        "from sklearn.ensemble import RandomForestRegressor, GradientBoostingRegressor\n",
        "from sklearn.linear_model import LinearRegression, LogisticRegression, SGDRegressor\n",
        "from sklearn.metrics import mean_squared_error, r2_score, mean_absolute_percentage_error, mean_absolute_error\n",
        "from sklearn.model_selection import train_test_split, GridSearchCV, KFold, cross_val_score\n",
        "from sklearn.neighbors import KNeighborsRegressor\n",
        "from sklearn.neural_network import MLPRegressor\n",
        "from sklearn.pipeline import make_pipeline, Pipeline\n",
        "from sklearn import preprocessing\n",
        "from sklearn.preprocessing import Normalizer, LabelEncoder, MinMaxScaler, StandardScaler\n",
        "from sklearn.svm import SVR\n",
        "from sklearn.tree import DecisionTreeRegressor\n",
        "from sklearn.pipeline import make_pipeline\n",
        "from sklearn.linear_model import Ridge\n",
        "from sklearn.model_selection import GridSearchCV\n",
        "import pickle\n",
        "\n",
        "from tensorflow import keras as keras\n",
        "from tensorflow.keras import layers\n",
        "from tensorflow.keras.layers import Dense, Flatten, Dropout, BatchNormalization, Activation\n",
        "from pandas import read_excel, DataFrame, Series\n",
        "from keras.wrappers.scikit_learn import KerasClassifier, KerasRegressor\n",
        "from tensorflow.keras.models import Sequential\n",
        "from numpy.random import seed\n",
        "from scipy import stats\n",
        "import warnings\n",
        "warnings.filterwarnings(\"ignore\")"
      ]
    },
    {
      "cell_type": "code",
      "execution_count": null,
      "id": "cfbc3d3d",
      "metadata": {
        "colab": {
          "base_uri": "https://localhost:8080/",
          "height": 339
        },
        "id": "cfbc3d3d",
        "outputId": "d8fdd197-fdba-4181-ce67-25f8447179ea"
      },
      "outputs": [
        {
          "output_type": "execute_result",
          "data": {
            "text/plain": [
              "   Unnamed: 0  Соотношение матрица-наполнитель  Плотность, кг/м3  \\\n",
              "0           1                         1.857143            2030.0   \n",
              "1           3                         1.857143            2030.0   \n",
              "2           4                         2.771331            2030.0   \n",
              "3           5                         2.767918            2000.0   \n",
              "4           6                         2.569620            1910.0   \n",
              "\n",
              "   модуль упругости, ГПа  Количество отвердителя, м.%  \\\n",
              "0             738.736842                        50.00   \n",
              "1             738.736842                       129.00   \n",
              "2             753.000000                       111.86   \n",
              "3             748.000000                       111.86   \n",
              "4             807.000000                       111.86   \n",
              "\n",
              "   Содержание эпоксидных групп,%_2  Температура вспышки, С_2  \\\n",
              "0                        23.750000                284.615385   \n",
              "1                        21.250000                300.000000   \n",
              "2                        22.267857                284.615385   \n",
              "3                        22.267857                284.615385   \n",
              "4                        22.267857                284.615385   \n",
              "\n",
              "   Поверхностная плотность, г/м2  Модуль упругости при растяжении, ГПа  \\\n",
              "0                          210.0                                  70.0   \n",
              "1                          210.0                                  70.0   \n",
              "2                          210.0                                  70.0   \n",
              "3                          210.0                                  70.0   \n",
              "4                          210.0                                  70.0   \n",
              "\n",
              "   Прочность при растяжении, МПа  Потребление смолы, г/м2  Угол нашивки  \\\n",
              "0                         3000.0                    220.0             0   \n",
              "1                         3000.0                    220.0             0   \n",
              "2                         3000.0                    220.0             0   \n",
              "3                         3000.0                    220.0             0   \n",
              "4                         3000.0                    220.0             0   \n",
              "\n",
              "   Шаг нашивки  Плотность нашивки  \n",
              "0          4.0               60.0  \n",
              "1          5.0               47.0  \n",
              "2          5.0               57.0  \n",
              "3          5.0               60.0  \n",
              "4          5.0               70.0  "
            ],
            "text/html": [
              "\n",
              "  <div id=\"df-7d485945-859c-438e-96f3-899f1066bf4b\">\n",
              "    <div class=\"colab-df-container\">\n",
              "      <div>\n",
              "<style scoped>\n",
              "    .dataframe tbody tr th:only-of-type {\n",
              "        vertical-align: middle;\n",
              "    }\n",
              "\n",
              "    .dataframe tbody tr th {\n",
              "        vertical-align: top;\n",
              "    }\n",
              "\n",
              "    .dataframe thead th {\n",
              "        text-align: right;\n",
              "    }\n",
              "</style>\n",
              "<table border=\"1\" class=\"dataframe\">\n",
              "  <thead>\n",
              "    <tr style=\"text-align: right;\">\n",
              "      <th></th>\n",
              "      <th>Unnamed: 0</th>\n",
              "      <th>Соотношение матрица-наполнитель</th>\n",
              "      <th>Плотность, кг/м3</th>\n",
              "      <th>модуль упругости, ГПа</th>\n",
              "      <th>Количество отвердителя, м.%</th>\n",
              "      <th>Содержание эпоксидных групп,%_2</th>\n",
              "      <th>Температура вспышки, С_2</th>\n",
              "      <th>Поверхностная плотность, г/м2</th>\n",
              "      <th>Модуль упругости при растяжении, ГПа</th>\n",
              "      <th>Прочность при растяжении, МПа</th>\n",
              "      <th>Потребление смолы, г/м2</th>\n",
              "      <th>Угол нашивки</th>\n",
              "      <th>Шаг нашивки</th>\n",
              "      <th>Плотность нашивки</th>\n",
              "    </tr>\n",
              "  </thead>\n",
              "  <tbody>\n",
              "    <tr>\n",
              "      <th>0</th>\n",
              "      <td>1</td>\n",
              "      <td>1.857143</td>\n",
              "      <td>2030.0</td>\n",
              "      <td>738.736842</td>\n",
              "      <td>50.00</td>\n",
              "      <td>23.750000</td>\n",
              "      <td>284.615385</td>\n",
              "      <td>210.0</td>\n",
              "      <td>70.0</td>\n",
              "      <td>3000.0</td>\n",
              "      <td>220.0</td>\n",
              "      <td>0</td>\n",
              "      <td>4.0</td>\n",
              "      <td>60.0</td>\n",
              "    </tr>\n",
              "    <tr>\n",
              "      <th>1</th>\n",
              "      <td>3</td>\n",
              "      <td>1.857143</td>\n",
              "      <td>2030.0</td>\n",
              "      <td>738.736842</td>\n",
              "      <td>129.00</td>\n",
              "      <td>21.250000</td>\n",
              "      <td>300.000000</td>\n",
              "      <td>210.0</td>\n",
              "      <td>70.0</td>\n",
              "      <td>3000.0</td>\n",
              "      <td>220.0</td>\n",
              "      <td>0</td>\n",
              "      <td>5.0</td>\n",
              "      <td>47.0</td>\n",
              "    </tr>\n",
              "    <tr>\n",
              "      <th>2</th>\n",
              "      <td>4</td>\n",
              "      <td>2.771331</td>\n",
              "      <td>2030.0</td>\n",
              "      <td>753.000000</td>\n",
              "      <td>111.86</td>\n",
              "      <td>22.267857</td>\n",
              "      <td>284.615385</td>\n",
              "      <td>210.0</td>\n",
              "      <td>70.0</td>\n",
              "      <td>3000.0</td>\n",
              "      <td>220.0</td>\n",
              "      <td>0</td>\n",
              "      <td>5.0</td>\n",
              "      <td>57.0</td>\n",
              "    </tr>\n",
              "    <tr>\n",
              "      <th>3</th>\n",
              "      <td>5</td>\n",
              "      <td>2.767918</td>\n",
              "      <td>2000.0</td>\n",
              "      <td>748.000000</td>\n",
              "      <td>111.86</td>\n",
              "      <td>22.267857</td>\n",
              "      <td>284.615385</td>\n",
              "      <td>210.0</td>\n",
              "      <td>70.0</td>\n",
              "      <td>3000.0</td>\n",
              "      <td>220.0</td>\n",
              "      <td>0</td>\n",
              "      <td>5.0</td>\n",
              "      <td>60.0</td>\n",
              "    </tr>\n",
              "    <tr>\n",
              "      <th>4</th>\n",
              "      <td>6</td>\n",
              "      <td>2.569620</td>\n",
              "      <td>1910.0</td>\n",
              "      <td>807.000000</td>\n",
              "      <td>111.86</td>\n",
              "      <td>22.267857</td>\n",
              "      <td>284.615385</td>\n",
              "      <td>210.0</td>\n",
              "      <td>70.0</td>\n",
              "      <td>3000.0</td>\n",
              "      <td>220.0</td>\n",
              "      <td>0</td>\n",
              "      <td>5.0</td>\n",
              "      <td>70.0</td>\n",
              "    </tr>\n",
              "  </tbody>\n",
              "</table>\n",
              "</div>\n",
              "      <button class=\"colab-df-convert\" onclick=\"convertToInteractive('df-7d485945-859c-438e-96f3-899f1066bf4b')\"\n",
              "              title=\"Convert this dataframe to an interactive table.\"\n",
              "              style=\"display:none;\">\n",
              "        \n",
              "  <svg xmlns=\"http://www.w3.org/2000/svg\" height=\"24px\"viewBox=\"0 0 24 24\"\n",
              "       width=\"24px\">\n",
              "    <path d=\"M0 0h24v24H0V0z\" fill=\"none\"/>\n",
              "    <path d=\"M18.56 5.44l.94 2.06.94-2.06 2.06-.94-2.06-.94-.94-2.06-.94 2.06-2.06.94zm-11 1L8.5 8.5l.94-2.06 2.06-.94-2.06-.94L8.5 2.5l-.94 2.06-2.06.94zm10 10l.94 2.06.94-2.06 2.06-.94-2.06-.94-.94-2.06-.94 2.06-2.06.94z\"/><path d=\"M17.41 7.96l-1.37-1.37c-.4-.4-.92-.59-1.43-.59-.52 0-1.04.2-1.43.59L10.3 9.45l-7.72 7.72c-.78.78-.78 2.05 0 2.83L4 21.41c.39.39.9.59 1.41.59.51 0 1.02-.2 1.41-.59l7.78-7.78 2.81-2.81c.8-.78.8-2.07 0-2.86zM5.41 20L4 18.59l7.72-7.72 1.47 1.35L5.41 20z\"/>\n",
              "  </svg>\n",
              "      </button>\n",
              "      \n",
              "  <style>\n",
              "    .colab-df-container {\n",
              "      display:flex;\n",
              "      flex-wrap:wrap;\n",
              "      gap: 12px;\n",
              "    }\n",
              "\n",
              "    .colab-df-convert {\n",
              "      background-color: #E8F0FE;\n",
              "      border: none;\n",
              "      border-radius: 50%;\n",
              "      cursor: pointer;\n",
              "      display: none;\n",
              "      fill: #1967D2;\n",
              "      height: 32px;\n",
              "      padding: 0 0 0 0;\n",
              "      width: 32px;\n",
              "    }\n",
              "\n",
              "    .colab-df-convert:hover {\n",
              "      background-color: #E2EBFA;\n",
              "      box-shadow: 0px 1px 2px rgba(60, 64, 67, 0.3), 0px 1px 3px 1px rgba(60, 64, 67, 0.15);\n",
              "      fill: #174EA6;\n",
              "    }\n",
              "\n",
              "    [theme=dark] .colab-df-convert {\n",
              "      background-color: #3B4455;\n",
              "      fill: #D2E3FC;\n",
              "    }\n",
              "\n",
              "    [theme=dark] .colab-df-convert:hover {\n",
              "      background-color: #434B5C;\n",
              "      box-shadow: 0px 1px 3px 1px rgba(0, 0, 0, 0.15);\n",
              "      filter: drop-shadow(0px 1px 2px rgba(0, 0, 0, 0.3));\n",
              "      fill: #FFFFFF;\n",
              "    }\n",
              "  </style>\n",
              "\n",
              "      <script>\n",
              "        const buttonEl =\n",
              "          document.querySelector('#df-7d485945-859c-438e-96f3-899f1066bf4b button.colab-df-convert');\n",
              "        buttonEl.style.display =\n",
              "          google.colab.kernel.accessAllowed ? 'block' : 'none';\n",
              "\n",
              "        async function convertToInteractive(key) {\n",
              "          const element = document.querySelector('#df-7d485945-859c-438e-96f3-899f1066bf4b');\n",
              "          const dataTable =\n",
              "            await google.colab.kernel.invokeFunction('convertToInteractive',\n",
              "                                                     [key], {});\n",
              "          if (!dataTable) return;\n",
              "\n",
              "          const docLinkHtml = 'Like what you see? Visit the ' +\n",
              "            '<a target=\"_blank\" href=https://colab.research.google.com/notebooks/data_table.ipynb>data table notebook</a>'\n",
              "            + ' to learn more about interactive tables.';\n",
              "          element.innerHTML = '';\n",
              "          dataTable['output_type'] = 'display_data';\n",
              "          await google.colab.output.renderOutput(dataTable, element);\n",
              "          const docLink = document.createElement('div');\n",
              "          docLink.innerHTML = docLinkHtml;\n",
              "          element.appendChild(docLink);\n",
              "        }\n",
              "      </script>\n",
              "    </div>\n",
              "  </div>\n",
              "  "
            ]
          },
          "metadata": {},
          "execution_count": 4
        }
      ],
      "source": [
        "df = pd.read_excel('df_clean.xlsx')\n",
        "df.head()"
      ]
    },
    {
      "cell_type": "code",
      "execution_count": null,
      "id": "3eb8b491",
      "metadata": {
        "id": "3eb8b491"
      },
      "outputs": [],
      "source": [
        "#Удаляем первый столбец, в котором только нумерация\n",
        "df.drop(df.columns[df.columns.str.contains('unnamed', case=False)],\n",
        "           axis=1,\n",
        "           inplace=True)\n",
        "\n"
      ]
    },
    {
      "cell_type": "code",
      "execution_count": null,
      "id": "c10ec9dc",
      "metadata": {
        "colab": {
          "base_uri": "https://localhost:8080/",
          "height": 319
        },
        "id": "c10ec9dc",
        "outputId": "d5c3432f-a317-47ec-ca23-25907fe81460"
      },
      "outputs": [
        {
          "output_type": "execute_result",
          "data": {
            "text/plain": [
              "   Соотношение матрица-наполнитель  Плотность, кг/м3  модуль упругости, ГПа  \\\n",
              "0                         1.857143            2030.0             738.736842   \n",
              "1                         1.857143            2030.0             738.736842   \n",
              "2                         2.771331            2030.0             753.000000   \n",
              "3                         2.767918            2000.0             748.000000   \n",
              "4                         2.569620            1910.0             807.000000   \n",
              "\n",
              "   Количество отвердителя, м.%  Содержание эпоксидных групп,%_2  \\\n",
              "0                        50.00                        23.750000   \n",
              "1                       129.00                        21.250000   \n",
              "2                       111.86                        22.267857   \n",
              "3                       111.86                        22.267857   \n",
              "4                       111.86                        22.267857   \n",
              "\n",
              "   Температура вспышки, С_2  Поверхностная плотность, г/м2  \\\n",
              "0                284.615385                          210.0   \n",
              "1                300.000000                          210.0   \n",
              "2                284.615385                          210.0   \n",
              "3                284.615385                          210.0   \n",
              "4                284.615385                          210.0   \n",
              "\n",
              "   Модуль упругости при растяжении, ГПа  Прочность при растяжении, МПа  \\\n",
              "0                                  70.0                         3000.0   \n",
              "1                                  70.0                         3000.0   \n",
              "2                                  70.0                         3000.0   \n",
              "3                                  70.0                         3000.0   \n",
              "4                                  70.0                         3000.0   \n",
              "\n",
              "   Потребление смолы, г/м2  Угол нашивки  Шаг нашивки  Плотность нашивки  \n",
              "0                    220.0             0          4.0               60.0  \n",
              "1                    220.0             0          5.0               47.0  \n",
              "2                    220.0             0          5.0               57.0  \n",
              "3                    220.0             0          5.0               60.0  \n",
              "4                    220.0             0          5.0               70.0  "
            ],
            "text/html": [
              "\n",
              "  <div id=\"df-e5065ba0-e274-46fe-83a4-8f4eca1a7010\">\n",
              "    <div class=\"colab-df-container\">\n",
              "      <div>\n",
              "<style scoped>\n",
              "    .dataframe tbody tr th:only-of-type {\n",
              "        vertical-align: middle;\n",
              "    }\n",
              "\n",
              "    .dataframe tbody tr th {\n",
              "        vertical-align: top;\n",
              "    }\n",
              "\n",
              "    .dataframe thead th {\n",
              "        text-align: right;\n",
              "    }\n",
              "</style>\n",
              "<table border=\"1\" class=\"dataframe\">\n",
              "  <thead>\n",
              "    <tr style=\"text-align: right;\">\n",
              "      <th></th>\n",
              "      <th>Соотношение матрица-наполнитель</th>\n",
              "      <th>Плотность, кг/м3</th>\n",
              "      <th>модуль упругости, ГПа</th>\n",
              "      <th>Количество отвердителя, м.%</th>\n",
              "      <th>Содержание эпоксидных групп,%_2</th>\n",
              "      <th>Температура вспышки, С_2</th>\n",
              "      <th>Поверхностная плотность, г/м2</th>\n",
              "      <th>Модуль упругости при растяжении, ГПа</th>\n",
              "      <th>Прочность при растяжении, МПа</th>\n",
              "      <th>Потребление смолы, г/м2</th>\n",
              "      <th>Угол нашивки</th>\n",
              "      <th>Шаг нашивки</th>\n",
              "      <th>Плотность нашивки</th>\n",
              "    </tr>\n",
              "  </thead>\n",
              "  <tbody>\n",
              "    <tr>\n",
              "      <th>0</th>\n",
              "      <td>1.857143</td>\n",
              "      <td>2030.0</td>\n",
              "      <td>738.736842</td>\n",
              "      <td>50.00</td>\n",
              "      <td>23.750000</td>\n",
              "      <td>284.615385</td>\n",
              "      <td>210.0</td>\n",
              "      <td>70.0</td>\n",
              "      <td>3000.0</td>\n",
              "      <td>220.0</td>\n",
              "      <td>0</td>\n",
              "      <td>4.0</td>\n",
              "      <td>60.0</td>\n",
              "    </tr>\n",
              "    <tr>\n",
              "      <th>1</th>\n",
              "      <td>1.857143</td>\n",
              "      <td>2030.0</td>\n",
              "      <td>738.736842</td>\n",
              "      <td>129.00</td>\n",
              "      <td>21.250000</td>\n",
              "      <td>300.000000</td>\n",
              "      <td>210.0</td>\n",
              "      <td>70.0</td>\n",
              "      <td>3000.0</td>\n",
              "      <td>220.0</td>\n",
              "      <td>0</td>\n",
              "      <td>5.0</td>\n",
              "      <td>47.0</td>\n",
              "    </tr>\n",
              "    <tr>\n",
              "      <th>2</th>\n",
              "      <td>2.771331</td>\n",
              "      <td>2030.0</td>\n",
              "      <td>753.000000</td>\n",
              "      <td>111.86</td>\n",
              "      <td>22.267857</td>\n",
              "      <td>284.615385</td>\n",
              "      <td>210.0</td>\n",
              "      <td>70.0</td>\n",
              "      <td>3000.0</td>\n",
              "      <td>220.0</td>\n",
              "      <td>0</td>\n",
              "      <td>5.0</td>\n",
              "      <td>57.0</td>\n",
              "    </tr>\n",
              "    <tr>\n",
              "      <th>3</th>\n",
              "      <td>2.767918</td>\n",
              "      <td>2000.0</td>\n",
              "      <td>748.000000</td>\n",
              "      <td>111.86</td>\n",
              "      <td>22.267857</td>\n",
              "      <td>284.615385</td>\n",
              "      <td>210.0</td>\n",
              "      <td>70.0</td>\n",
              "      <td>3000.0</td>\n",
              "      <td>220.0</td>\n",
              "      <td>0</td>\n",
              "      <td>5.0</td>\n",
              "      <td>60.0</td>\n",
              "    </tr>\n",
              "    <tr>\n",
              "      <th>4</th>\n",
              "      <td>2.569620</td>\n",
              "      <td>1910.0</td>\n",
              "      <td>807.000000</td>\n",
              "      <td>111.86</td>\n",
              "      <td>22.267857</td>\n",
              "      <td>284.615385</td>\n",
              "      <td>210.0</td>\n",
              "      <td>70.0</td>\n",
              "      <td>3000.0</td>\n",
              "      <td>220.0</td>\n",
              "      <td>0</td>\n",
              "      <td>5.0</td>\n",
              "      <td>70.0</td>\n",
              "    </tr>\n",
              "  </tbody>\n",
              "</table>\n",
              "</div>\n",
              "      <button class=\"colab-df-convert\" onclick=\"convertToInteractive('df-e5065ba0-e274-46fe-83a4-8f4eca1a7010')\"\n",
              "              title=\"Convert this dataframe to an interactive table.\"\n",
              "              style=\"display:none;\">\n",
              "        \n",
              "  <svg xmlns=\"http://www.w3.org/2000/svg\" height=\"24px\"viewBox=\"0 0 24 24\"\n",
              "       width=\"24px\">\n",
              "    <path d=\"M0 0h24v24H0V0z\" fill=\"none\"/>\n",
              "    <path d=\"M18.56 5.44l.94 2.06.94-2.06 2.06-.94-2.06-.94-.94-2.06-.94 2.06-2.06.94zm-11 1L8.5 8.5l.94-2.06 2.06-.94-2.06-.94L8.5 2.5l-.94 2.06-2.06.94zm10 10l.94 2.06.94-2.06 2.06-.94-2.06-.94-.94-2.06-.94 2.06-2.06.94z\"/><path d=\"M17.41 7.96l-1.37-1.37c-.4-.4-.92-.59-1.43-.59-.52 0-1.04.2-1.43.59L10.3 9.45l-7.72 7.72c-.78.78-.78 2.05 0 2.83L4 21.41c.39.39.9.59 1.41.59.51 0 1.02-.2 1.41-.59l7.78-7.78 2.81-2.81c.8-.78.8-2.07 0-2.86zM5.41 20L4 18.59l7.72-7.72 1.47 1.35L5.41 20z\"/>\n",
              "  </svg>\n",
              "      </button>\n",
              "      \n",
              "  <style>\n",
              "    .colab-df-container {\n",
              "      display:flex;\n",
              "      flex-wrap:wrap;\n",
              "      gap: 12px;\n",
              "    }\n",
              "\n",
              "    .colab-df-convert {\n",
              "      background-color: #E8F0FE;\n",
              "      border: none;\n",
              "      border-radius: 50%;\n",
              "      cursor: pointer;\n",
              "      display: none;\n",
              "      fill: #1967D2;\n",
              "      height: 32px;\n",
              "      padding: 0 0 0 0;\n",
              "      width: 32px;\n",
              "    }\n",
              "\n",
              "    .colab-df-convert:hover {\n",
              "      background-color: #E2EBFA;\n",
              "      box-shadow: 0px 1px 2px rgba(60, 64, 67, 0.3), 0px 1px 3px 1px rgba(60, 64, 67, 0.15);\n",
              "      fill: #174EA6;\n",
              "    }\n",
              "\n",
              "    [theme=dark] .colab-df-convert {\n",
              "      background-color: #3B4455;\n",
              "      fill: #D2E3FC;\n",
              "    }\n",
              "\n",
              "    [theme=dark] .colab-df-convert:hover {\n",
              "      background-color: #434B5C;\n",
              "      box-shadow: 0px 1px 3px 1px rgba(0, 0, 0, 0.15);\n",
              "      filter: drop-shadow(0px 1px 2px rgba(0, 0, 0, 0.3));\n",
              "      fill: #FFFFFF;\n",
              "    }\n",
              "  </style>\n",
              "\n",
              "      <script>\n",
              "        const buttonEl =\n",
              "          document.querySelector('#df-e5065ba0-e274-46fe-83a4-8f4eca1a7010 button.colab-df-convert');\n",
              "        buttonEl.style.display =\n",
              "          google.colab.kernel.accessAllowed ? 'block' : 'none';\n",
              "\n",
              "        async function convertToInteractive(key) {\n",
              "          const element = document.querySelector('#df-e5065ba0-e274-46fe-83a4-8f4eca1a7010');\n",
              "          const dataTable =\n",
              "            await google.colab.kernel.invokeFunction('convertToInteractive',\n",
              "                                                     [key], {});\n",
              "          if (!dataTable) return;\n",
              "\n",
              "          const docLinkHtml = 'Like what you see? Visit the ' +\n",
              "            '<a target=\"_blank\" href=https://colab.research.google.com/notebooks/data_table.ipynb>data table notebook</a>'\n",
              "            + ' to learn more about interactive tables.';\n",
              "          element.innerHTML = '';\n",
              "          dataTable['output_type'] = 'display_data';\n",
              "          await google.colab.output.renderOutput(dataTable, element);\n",
              "          const docLink = document.createElement('div');\n",
              "          docLink.innerHTML = docLinkHtml;\n",
              "          element.appendChild(docLink);\n",
              "        }\n",
              "      </script>\n",
              "    </div>\n",
              "  </div>\n",
              "  "
            ]
          },
          "metadata": {},
          "execution_count": 6
        }
      ],
      "source": [
        "df.head()"
      ]
    },
    {
      "cell_type": "markdown",
      "id": "02a1b690",
      "metadata": {
        "id": "02a1b690"
      },
      "source": [
        "### Разработка и обучение нескольких моделей для прогноза прочности при растяжении"
      ]
    },
    {
      "cell_type": "markdown",
      "id": "6ae0808c",
      "metadata": {
        "id": "6ae0808c"
      },
      "source": [
        "На размеченных данных применеяются задачи регрессии и классификации, и так как нам нужно предсказать непрерывную переменную, то мы будем разрабатывать модели регрессии.\n",
        "Будем учитывать полученное задание, что при построении моделей нужно провести поиск гиперпараметров модели с помощью поиска по сетке с перекрестной проверкой, количество блоков равно 10."
      ]
    },
    {
      "cell_type": "markdown",
      "id": "_kAhQ9YTAD4R",
      "metadata": {
        "id": "_kAhQ9YTAD4R"
      },
      "source": [
        "Сформируем выборки и посмотрим, что получилось"
      ]
    },
    {
      "cell_type": "markdown",
      "id": "778811a2",
      "metadata": {
        "id": "778811a2"
      },
      "source": [
        "#### Прогнозируем прочность при растяжении"
      ]
    },
    {
      "cell_type": "markdown",
      "id": "2ac1ed02",
      "metadata": {
        "id": "2ac1ed02"
      },
      "source": [
        "После всех подготовительных работ переходим к процессу создания, обучения моделей. Мы будем использовать в Python библиотеку Scikit-Learn.\n",
        "В качестве базового уровня предскажем медианное значение цели на обучающем наборе для всех примеров в тестовом наборе. В качестве метрики возьмём среднюю абсолютную ошибку (mae) в прогнозах. Для обучения используем 70 % данных, а для тестирования — 30 %."
      ]
    },
    {
      "cell_type": "code",
      "execution_count": null,
      "id": "78da1902",
      "metadata": {
        "id": "78da1902"
      },
      "outputs": [],
      "source": [
        "X = df.drop(columns=['Прочность при растяжении, МПа'],\n",
        "            axis=1)"
      ]
    },
    {
      "cell_type": "code",
      "execution_count": null,
      "id": "27f53726",
      "metadata": {
        "colab": {
          "base_uri": "https://localhost:8080/",
          "height": 520
        },
        "id": "27f53726",
        "outputId": "3f2e1d94-d8ad-4a1a-dccb-e60b58001ce1"
      },
      "outputs": [
        {
          "output_type": "execute_result",
          "data": {
            "text/plain": [
              "     Соотношение матрица-наполнитель  Плотность, кг/м3  модуль упругости, ГПа  \\\n",
              "0                           1.857143       2030.000000             738.736842   \n",
              "1                           1.857143       2030.000000             738.736842   \n",
              "2                           2.771331       2030.000000             753.000000   \n",
              "3                           2.767918       2000.000000             748.000000   \n",
              "4                           2.569620       1910.000000             807.000000   \n",
              "..                               ...               ...                    ...   \n",
              "931                         2.271346       1952.087902             912.855545   \n",
              "932                         3.444022       2050.089171             444.732634   \n",
              "933                         3.280604       1972.372865             416.836524   \n",
              "934                         3.705351       2066.799773             741.475517   \n",
              "935                         3.808020       1890.413468             417.316232   \n",
              "\n",
              "     Количество отвердителя, м.%  Содержание эпоксидных групп,%_2  \\\n",
              "0                      50.000000                        23.750000   \n",
              "1                     129.000000                        21.250000   \n",
              "2                     111.860000                        22.267857   \n",
              "3                     111.860000                        22.267857   \n",
              "4                     111.860000                        22.267857   \n",
              "..                           ...                              ...   \n",
              "931                    86.992183                        20.123249   \n",
              "932                   145.981978                        19.599769   \n",
              "933                   110.533477                        23.957502   \n",
              "934                   141.397963                        19.246945   \n",
              "935                   129.183416                        27.474763   \n",
              "\n",
              "     Температура вспышки, С_2  Поверхностная плотность, г/м2  \\\n",
              "0                  284.615385                     210.000000   \n",
              "1                  300.000000                     210.000000   \n",
              "2                  284.615385                     210.000000   \n",
              "3                  284.615385                     210.000000   \n",
              "4                  284.615385                     210.000000   \n",
              "..                        ...                            ...   \n",
              "931                324.774576                     209.198700   \n",
              "932                254.215401                     350.660830   \n",
              "933                248.423047                     740.142791   \n",
              "934                275.779840                     641.468152   \n",
              "935                300.952708                     758.747882   \n",
              "\n",
              "     Модуль упругости при растяжении, ГПа  Потребление смолы, г/м2  \\\n",
              "0                               70.000000               220.000000   \n",
              "1                               70.000000               220.000000   \n",
              "2                               70.000000               220.000000   \n",
              "3                               70.000000               220.000000   \n",
              "4                               70.000000               220.000000   \n",
              "..                                    ...                      ...   \n",
              "931                             73.090961               125.007669   \n",
              "932                             72.920827               117.730099   \n",
              "933                             74.734344               236.606764   \n",
              "934                             74.042708               197.126067   \n",
              "935                             74.309704               194.754342   \n",
              "\n",
              "     Угол нашивки  Шаг нашивки  Плотность нашивки  \n",
              "0               0     4.000000          60.000000  \n",
              "1               0     5.000000          47.000000  \n",
              "2               0     5.000000          57.000000  \n",
              "3               0     5.000000          60.000000  \n",
              "4               0     5.000000          70.000000  \n",
              "..            ...          ...                ...  \n",
              "931             1     9.076380          47.019770  \n",
              "932             1    10.565614          53.750790  \n",
              "933             1     4.161154          67.629684  \n",
              "934             1     6.313201          58.261074  \n",
              "935             1     6.078902          77.434468  \n",
              "\n",
              "[936 rows x 12 columns]"
            ],
            "text/html": [
              "\n",
              "  <div id=\"df-aaa8ba17-a871-4094-a5f3-abdaac032cbe\">\n",
              "    <div class=\"colab-df-container\">\n",
              "      <div>\n",
              "<style scoped>\n",
              "    .dataframe tbody tr th:only-of-type {\n",
              "        vertical-align: middle;\n",
              "    }\n",
              "\n",
              "    .dataframe tbody tr th {\n",
              "        vertical-align: top;\n",
              "    }\n",
              "\n",
              "    .dataframe thead th {\n",
              "        text-align: right;\n",
              "    }\n",
              "</style>\n",
              "<table border=\"1\" class=\"dataframe\">\n",
              "  <thead>\n",
              "    <tr style=\"text-align: right;\">\n",
              "      <th></th>\n",
              "      <th>Соотношение матрица-наполнитель</th>\n",
              "      <th>Плотность, кг/м3</th>\n",
              "      <th>модуль упругости, ГПа</th>\n",
              "      <th>Количество отвердителя, м.%</th>\n",
              "      <th>Содержание эпоксидных групп,%_2</th>\n",
              "      <th>Температура вспышки, С_2</th>\n",
              "      <th>Поверхностная плотность, г/м2</th>\n",
              "      <th>Модуль упругости при растяжении, ГПа</th>\n",
              "      <th>Потребление смолы, г/м2</th>\n",
              "      <th>Угол нашивки</th>\n",
              "      <th>Шаг нашивки</th>\n",
              "      <th>Плотность нашивки</th>\n",
              "    </tr>\n",
              "  </thead>\n",
              "  <tbody>\n",
              "    <tr>\n",
              "      <th>0</th>\n",
              "      <td>1.857143</td>\n",
              "      <td>2030.000000</td>\n",
              "      <td>738.736842</td>\n",
              "      <td>50.000000</td>\n",
              "      <td>23.750000</td>\n",
              "      <td>284.615385</td>\n",
              "      <td>210.000000</td>\n",
              "      <td>70.000000</td>\n",
              "      <td>220.000000</td>\n",
              "      <td>0</td>\n",
              "      <td>4.000000</td>\n",
              "      <td>60.000000</td>\n",
              "    </tr>\n",
              "    <tr>\n",
              "      <th>1</th>\n",
              "      <td>1.857143</td>\n",
              "      <td>2030.000000</td>\n",
              "      <td>738.736842</td>\n",
              "      <td>129.000000</td>\n",
              "      <td>21.250000</td>\n",
              "      <td>300.000000</td>\n",
              "      <td>210.000000</td>\n",
              "      <td>70.000000</td>\n",
              "      <td>220.000000</td>\n",
              "      <td>0</td>\n",
              "      <td>5.000000</td>\n",
              "      <td>47.000000</td>\n",
              "    </tr>\n",
              "    <tr>\n",
              "      <th>2</th>\n",
              "      <td>2.771331</td>\n",
              "      <td>2030.000000</td>\n",
              "      <td>753.000000</td>\n",
              "      <td>111.860000</td>\n",
              "      <td>22.267857</td>\n",
              "      <td>284.615385</td>\n",
              "      <td>210.000000</td>\n",
              "      <td>70.000000</td>\n",
              "      <td>220.000000</td>\n",
              "      <td>0</td>\n",
              "      <td>5.000000</td>\n",
              "      <td>57.000000</td>\n",
              "    </tr>\n",
              "    <tr>\n",
              "      <th>3</th>\n",
              "      <td>2.767918</td>\n",
              "      <td>2000.000000</td>\n",
              "      <td>748.000000</td>\n",
              "      <td>111.860000</td>\n",
              "      <td>22.267857</td>\n",
              "      <td>284.615385</td>\n",
              "      <td>210.000000</td>\n",
              "      <td>70.000000</td>\n",
              "      <td>220.000000</td>\n",
              "      <td>0</td>\n",
              "      <td>5.000000</td>\n",
              "      <td>60.000000</td>\n",
              "    </tr>\n",
              "    <tr>\n",
              "      <th>4</th>\n",
              "      <td>2.569620</td>\n",
              "      <td>1910.000000</td>\n",
              "      <td>807.000000</td>\n",
              "      <td>111.860000</td>\n",
              "      <td>22.267857</td>\n",
              "      <td>284.615385</td>\n",
              "      <td>210.000000</td>\n",
              "      <td>70.000000</td>\n",
              "      <td>220.000000</td>\n",
              "      <td>0</td>\n",
              "      <td>5.000000</td>\n",
              "      <td>70.000000</td>\n",
              "    </tr>\n",
              "    <tr>\n",
              "      <th>...</th>\n",
              "      <td>...</td>\n",
              "      <td>...</td>\n",
              "      <td>...</td>\n",
              "      <td>...</td>\n",
              "      <td>...</td>\n",
              "      <td>...</td>\n",
              "      <td>...</td>\n",
              "      <td>...</td>\n",
              "      <td>...</td>\n",
              "      <td>...</td>\n",
              "      <td>...</td>\n",
              "      <td>...</td>\n",
              "    </tr>\n",
              "    <tr>\n",
              "      <th>931</th>\n",
              "      <td>2.271346</td>\n",
              "      <td>1952.087902</td>\n",
              "      <td>912.855545</td>\n",
              "      <td>86.992183</td>\n",
              "      <td>20.123249</td>\n",
              "      <td>324.774576</td>\n",
              "      <td>209.198700</td>\n",
              "      <td>73.090961</td>\n",
              "      <td>125.007669</td>\n",
              "      <td>1</td>\n",
              "      <td>9.076380</td>\n",
              "      <td>47.019770</td>\n",
              "    </tr>\n",
              "    <tr>\n",
              "      <th>932</th>\n",
              "      <td>3.444022</td>\n",
              "      <td>2050.089171</td>\n",
              "      <td>444.732634</td>\n",
              "      <td>145.981978</td>\n",
              "      <td>19.599769</td>\n",
              "      <td>254.215401</td>\n",
              "      <td>350.660830</td>\n",
              "      <td>72.920827</td>\n",
              "      <td>117.730099</td>\n",
              "      <td>1</td>\n",
              "      <td>10.565614</td>\n",
              "      <td>53.750790</td>\n",
              "    </tr>\n",
              "    <tr>\n",
              "      <th>933</th>\n",
              "      <td>3.280604</td>\n",
              "      <td>1972.372865</td>\n",
              "      <td>416.836524</td>\n",
              "      <td>110.533477</td>\n",
              "      <td>23.957502</td>\n",
              "      <td>248.423047</td>\n",
              "      <td>740.142791</td>\n",
              "      <td>74.734344</td>\n",
              "      <td>236.606764</td>\n",
              "      <td>1</td>\n",
              "      <td>4.161154</td>\n",
              "      <td>67.629684</td>\n",
              "    </tr>\n",
              "    <tr>\n",
              "      <th>934</th>\n",
              "      <td>3.705351</td>\n",
              "      <td>2066.799773</td>\n",
              "      <td>741.475517</td>\n",
              "      <td>141.397963</td>\n",
              "      <td>19.246945</td>\n",
              "      <td>275.779840</td>\n",
              "      <td>641.468152</td>\n",
              "      <td>74.042708</td>\n",
              "      <td>197.126067</td>\n",
              "      <td>1</td>\n",
              "      <td>6.313201</td>\n",
              "      <td>58.261074</td>\n",
              "    </tr>\n",
              "    <tr>\n",
              "      <th>935</th>\n",
              "      <td>3.808020</td>\n",
              "      <td>1890.413468</td>\n",
              "      <td>417.316232</td>\n",
              "      <td>129.183416</td>\n",
              "      <td>27.474763</td>\n",
              "      <td>300.952708</td>\n",
              "      <td>758.747882</td>\n",
              "      <td>74.309704</td>\n",
              "      <td>194.754342</td>\n",
              "      <td>1</td>\n",
              "      <td>6.078902</td>\n",
              "      <td>77.434468</td>\n",
              "    </tr>\n",
              "  </tbody>\n",
              "</table>\n",
              "<p>936 rows × 12 columns</p>\n",
              "</div>\n",
              "      <button class=\"colab-df-convert\" onclick=\"convertToInteractive('df-aaa8ba17-a871-4094-a5f3-abdaac032cbe')\"\n",
              "              title=\"Convert this dataframe to an interactive table.\"\n",
              "              style=\"display:none;\">\n",
              "        \n",
              "  <svg xmlns=\"http://www.w3.org/2000/svg\" height=\"24px\"viewBox=\"0 0 24 24\"\n",
              "       width=\"24px\">\n",
              "    <path d=\"M0 0h24v24H0V0z\" fill=\"none\"/>\n",
              "    <path d=\"M18.56 5.44l.94 2.06.94-2.06 2.06-.94-2.06-.94-.94-2.06-.94 2.06-2.06.94zm-11 1L8.5 8.5l.94-2.06 2.06-.94-2.06-.94L8.5 2.5l-.94 2.06-2.06.94zm10 10l.94 2.06.94-2.06 2.06-.94-2.06-.94-.94-2.06-.94 2.06-2.06.94z\"/><path d=\"M17.41 7.96l-1.37-1.37c-.4-.4-.92-.59-1.43-.59-.52 0-1.04.2-1.43.59L10.3 9.45l-7.72 7.72c-.78.78-.78 2.05 0 2.83L4 21.41c.39.39.9.59 1.41.59.51 0 1.02-.2 1.41-.59l7.78-7.78 2.81-2.81c.8-.78.8-2.07 0-2.86zM5.41 20L4 18.59l7.72-7.72 1.47 1.35L5.41 20z\"/>\n",
              "  </svg>\n",
              "      </button>\n",
              "      \n",
              "  <style>\n",
              "    .colab-df-container {\n",
              "      display:flex;\n",
              "      flex-wrap:wrap;\n",
              "      gap: 12px;\n",
              "    }\n",
              "\n",
              "    .colab-df-convert {\n",
              "      background-color: #E8F0FE;\n",
              "      border: none;\n",
              "      border-radius: 50%;\n",
              "      cursor: pointer;\n",
              "      display: none;\n",
              "      fill: #1967D2;\n",
              "      height: 32px;\n",
              "      padding: 0 0 0 0;\n",
              "      width: 32px;\n",
              "    }\n",
              "\n",
              "    .colab-df-convert:hover {\n",
              "      background-color: #E2EBFA;\n",
              "      box-shadow: 0px 1px 2px rgba(60, 64, 67, 0.3), 0px 1px 3px 1px rgba(60, 64, 67, 0.15);\n",
              "      fill: #174EA6;\n",
              "    }\n",
              "\n",
              "    [theme=dark] .colab-df-convert {\n",
              "      background-color: #3B4455;\n",
              "      fill: #D2E3FC;\n",
              "    }\n",
              "\n",
              "    [theme=dark] .colab-df-convert:hover {\n",
              "      background-color: #434B5C;\n",
              "      box-shadow: 0px 1px 3px 1px rgba(0, 0, 0, 0.15);\n",
              "      filter: drop-shadow(0px 1px 2px rgba(0, 0, 0, 0.3));\n",
              "      fill: #FFFFFF;\n",
              "    }\n",
              "  </style>\n",
              "\n",
              "      <script>\n",
              "        const buttonEl =\n",
              "          document.querySelector('#df-aaa8ba17-a871-4094-a5f3-abdaac032cbe button.colab-df-convert');\n",
              "        buttonEl.style.display =\n",
              "          google.colab.kernel.accessAllowed ? 'block' : 'none';\n",
              "\n",
              "        async function convertToInteractive(key) {\n",
              "          const element = document.querySelector('#df-aaa8ba17-a871-4094-a5f3-abdaac032cbe');\n",
              "          const dataTable =\n",
              "            await google.colab.kernel.invokeFunction('convertToInteractive',\n",
              "                                                     [key], {});\n",
              "          if (!dataTable) return;\n",
              "\n",
              "          const docLinkHtml = 'Like what you see? Visit the ' +\n",
              "            '<a target=\"_blank\" href=https://colab.research.google.com/notebooks/data_table.ipynb>data table notebook</a>'\n",
              "            + ' to learn more about interactive tables.';\n",
              "          element.innerHTML = '';\n",
              "          dataTable['output_type'] = 'display_data';\n",
              "          await google.colab.output.renderOutput(dataTable, element);\n",
              "          const docLink = document.createElement('div');\n",
              "          docLink.innerHTML = docLinkHtml;\n",
              "          element.appendChild(docLink);\n",
              "        }\n",
              "      </script>\n",
              "    </div>\n",
              "  </div>\n",
              "  "
            ]
          },
          "metadata": {},
          "execution_count": 11
        }
      ],
      "source": [
        "X"
      ]
    },
    {
      "cell_type": "code",
      "execution_count": null,
      "id": "616ae52c",
      "metadata": {
        "id": "616ae52c"
      },
      "outputs": [],
      "source": [
        "y = df['Прочность при растяжении, МПа']"
      ]
    },
    {
      "cell_type": "code",
      "execution_count": null,
      "id": "33633410",
      "metadata": {
        "id": "33633410",
        "outputId": "b4292a16-5b59-4207-e066-95c828782274"
      },
      "outputs": [
        {
          "data": {
            "text/plain": [
              "1       3000.000000\n",
              "3       3000.000000\n",
              "4       3000.000000\n",
              "5       3000.000000\n",
              "6       3000.000000\n",
              "           ...     \n",
              "1018    2387.292495\n",
              "1019    2360.392784\n",
              "1020    2662.906040\n",
              "1021    2071.715856\n",
              "1022    2856.328932\n",
              "Name: Прочность при растяжении, МПа, Length: 936, dtype: float64"
            ]
          },
          "execution_count": 115,
          "metadata": {},
          "output_type": "execute_result"
        }
      ],
      "source": [
        "y"
      ]
    },
    {
      "cell_type": "code",
      "execution_count": null,
      "id": "fa21cc5f",
      "metadata": {
        "id": "fa21cc5f"
      },
      "outputs": [],
      "source": [
        "# разбиваем на тестовую и тренировочную выборки, выделяя признаки и целевую переменную\n",
        "\n",
        "X_train, X_test, y_train, y_test = train_test_split(X,\n",
        "                                                            y,\n",
        "                                                            test_size=0.3,\n",
        "                                                            random_state=42)"
      ]
    },
    {
      "cell_type": "code",
      "execution_count": null,
      "id": "ca0034e8",
      "metadata": {
        "colab": {
          "base_uri": "https://localhost:8080/"
        },
        "id": "ca0034e8",
        "outputId": "01ecbc46-adef-44e3-f04d-9178595fd83b"
      },
      "outputs": [
        {
          "output_type": "execute_result",
          "data": {
            "text/plain": [
              "(655,)"
            ]
          },
          "metadata": {},
          "execution_count": 28
        }
      ],
      "source": [
        "y_train.shape"
      ]
    },
    {
      "cell_type": "code",
      "execution_count": null,
      "id": "908641e5",
      "metadata": {
        "id": "908641e5"
      },
      "outputs": [],
      "source": [
        "#Функция для сравнения результатов предсказаний с моделью, выдающей среднее значение по тестовой выборке\n",
        "def mean_model(y_test):\n",
        "    return [np.mean(y_test) for _ in range(len(y_test))]\n",
        "y_pred_mean = mean_model(y_test)"
      ]
    },
    {
      "cell_type": "markdown",
      "id": "55d79315",
      "metadata": {
        "id": "55d79315"
      },
      "source": [
        "Линейная регрессия"
      ]
    },
    {
      "cell_type": "code",
      "execution_count": null,
      "id": "4e3a06fb",
      "metadata": {
        "id": "4e3a06fb"
      },
      "outputs": [],
      "source": [
        "#Создадим переменную для названия всех столбцов. Это нам пригодится при построении моделей. И перейдем к визуализации данных\n",
        "df.columns\n",
        "#column_names = [\"Соотношение матрица-наполнитель\",\"Плотность, кг/м3\",\"модуль упругости, ГПа\",\"Количество отвердителя, м.%\",\n",
        "#         \"Содержание эпоксидных групп,%_2\",\"Температура вспышки, С_2\",\"Поверхностная плотность, г/м2\",\n",
        "#         \"Модуль упругости при растяжении, ГПа\",\"Прочность при растяжении, МПа\",\"Потребление смолы, г/м2\",\n",
        "#        \"Угол нашивки, град\",\"Шаг нашивки\",\"Плотность нашивки\"]\n",
        "column_names = df.columns"
      ]
    },
    {
      "cell_type": "markdown",
      "id": "dbad66cb",
      "metadata": {
        "id": "dbad66cb"
      },
      "source": [
        "Линейная регрессия"
      ]
    },
    {
      "cell_type": "code",
      "source": [
        "lr = make_pipeline(StandardScaler(),LinearRegression()) \n",
        "lr.fit(X_train, y_train) \n",
        "y_pred_lr = lr.predict(X_test) \n",
        "mae_lr = mean_absolute_error(y_pred_lr, y_test) \n",
        "\n",
        "print('Linear Regression Results Train:') # Оценка для тренировочной выборки \n",
        "print(\"Train score: {:.2f}\".format(lr.score(X_train, y_train))) \n",
        "print('Linear Regression Results:')\n",
        "print(\"Test score: {:.2f}\".format(lr.score(X_test, y_test))) # Оценка для тестовой выборки"
      ],
      "metadata": {
        "colab": {
          "base_uri": "https://localhost:8080/"
        },
        "id": "pU2MmQrWhl73",
        "outputId": "ab88955d-167d-4921-eba6-0988fad1672d"
      },
      "id": "pU2MmQrWhl73",
      "execution_count": null,
      "outputs": [
        {
          "output_type": "stream",
          "name": "stdout",
          "text": [
            "Linear Regression Results Train:\n",
            "Train score: 0.03\n",
            "Linear Regression Results:\n",
            "Test score: -0.05\n"
          ]
        }
      ]
    },
    {
      "cell_type": "code",
      "execution_count": null,
      "id": "c7be7ae6",
      "metadata": {
        "id": "c7be7ae6"
      },
      "outputs": [],
      "source": [
        "pickle.dump(lr, open('model.pkl','wb'))"
      ]
    },
    {
      "cell_type": "markdown",
      "id": "e61a9b6e",
      "metadata": {
        "id": "e61a9b6e"
      },
      "source": [
        "Decision Tree"
      ]
    },
    {
      "cell_type": "code",
      "execution_count": null,
      "id": "942dbb66",
      "metadata": {
        "colab": {
          "base_uri": "https://localhost:8080/"
        },
        "id": "942dbb66",
        "outputId": "0917be93-4970-4198-bfdb-524c4f3e40cf"
      },
      "outputs": [
        {
          "output_type": "stream",
          "name": "stdout",
          "text": [
            "Decision Tree Regressor Results Train:\n",
            "Test score: 1.00\n",
            "Decision Tree Regressor Results:\n",
            "DTR_MAE:  556\n",
            "Test score: -1.40\n"
          ]
        }
      ],
      "source": [
        "#Деревья решений - Decision Tree Regressor \n",
        "\n",
        "dtr = make_pipeline(StandardScaler(),DecisionTreeRegressor())\n",
        "dtr.fit(X_train, y_train)\n",
        "y_pred_dtr = dtr.predict(X_test)\n",
        "mae_dtr = mean_absolute_error(y_pred_dtr, y_test)\n",
        "\n",
        "\n",
        "print('Decision Tree Regressor Results Train:')\n",
        "print(\"Test score: {:.2f}\".format(dtr.score(X_train, y_train)))# Оценка для тренировочной выборки\n",
        "print('Decision Tree Regressor Results:')\n",
        "print('DTR_MAE: ', round(mean_absolute_error(y_test, y_pred_dtr)))\n",
        "\n",
        "\n",
        "print(\"Test score: {:.2f}\".format(dtr.score(X_test, y_test)))# Оценка для тестовой выборки"
      ]
    },
    {
      "cell_type": "code",
      "source": [],
      "metadata": {
        "id": "-YxQQshymy6M"
      },
      "id": "-YxQQshymy6M",
      "execution_count": null,
      "outputs": []
    },
    {
      "cell_type": "markdown",
      "id": "158472a2",
      "metadata": {
        "id": "158472a2"
      },
      "source": [
        "Метод случайного леса - Random Forest Regressor"
      ]
    },
    {
      "cell_type": "code",
      "execution_count": null,
      "id": "3a3c3cb9",
      "metadata": {
        "colab": {
          "base_uri": "https://localhost:8080/"
        },
        "id": "3a3c3cb9",
        "outputId": "c46fb31e-edb9-4a45-d686-c3ed5a44d589"
      },
      "outputs": [
        {
          "output_type": "stream",
          "name": "stdout",
          "text": [
            "Random Forest Regressor Results Train:\n",
            "Test score: 0.61\n",
            "Random Forest Regressor Results:\n",
            "RF_MAE:  374\n",
            "Test score: -0.10\n"
          ]
        }
      ],
      "source": [
        "#Метод случайного леса\n",
        "rfr = make_pipeline(StandardScaler(),RandomForestRegressor(n_estimators=15,max_depth=9, random_state=45))\n",
        "rfr.fit(X_train, y_train.values)\n",
        "y_pred_forest = rfr.predict(X_test)\n",
        "mae_rfr = mean_absolute_error(y_pred_forest, y_test)\n",
        "\n",
        "print('Random Forest Regressor Results Train:')\n",
        "print(\"Test score: {:.2f}\".format(rfr.score(X_train, y_train))) # Оценка для тренировочной выборки\n",
        "print('Random Forest Regressor Results:')\n",
        "print('RF_MAE: ', round(mean_absolute_error(y_test, y_pred_forest)))\n",
        "print(\"Test score: {:.2f}\".format(rfr.score(X_test, y_test))) # Оценка для тестовой выборки"
      ]
    },
    {
      "cell_type": "markdown",
      "id": "819eebed",
      "metadata": {
        "id": "819eebed"
      },
      "source": [
        "Метод К ближайших соседей"
      ]
    },
    {
      "cell_type": "code",
      "execution_count": null,
      "id": "8d8d5bb5",
      "metadata": {
        "colab": {
          "base_uri": "https://localhost:8080/"
        },
        "id": "8d8d5bb5",
        "outputId": "98f77787-97ae-4ab6-9e48-78d7241af5ec"
      },
      "outputs": [
        {
          "output_type": "stream",
          "name": "stdout",
          "text": [
            "K Neighbors Regressor  Results Train:\n",
            "Test score: 0.20\n",
            "K Neighbors Regressor  Results:\n",
            "KNN_MAE:  392\n",
            "Test score: -0.26\n"
          ]
        }
      ],
      "source": [
        "# Метод К ближайших соседей - K Neighbors Regressor - 5\n",
        "knn = make_pipeline(StandardScaler(),KNeighborsRegressor(n_neighbors=5))\n",
        "knn.fit(X_train, y_train)\n",
        "y_pred_knn = knn.predict(X_test)\n",
        "mae_knr = mean_absolute_error(y_pred_knn, y_test)\n",
        "\n",
        "print('K Neighbors Regressor  Results Train:')\n",
        "print(\"Test score: {:.2f}\".format(knn.score(X_train, y_train)))# Оценка для тренировочной выборки\n",
        "print('K Neighbors Regressor  Results:')\n",
        "print('KNN_MAE: ', round(mean_absolute_error(y_test, y_pred_knn)))\n",
        "print(\"Test score: {:.2f}\".format(knn.score(X_test, y_test)))# Оценка для тестовой выборки"
      ]
    },
    {
      "cell_type": "markdown",
      "id": "a8e80c9b",
      "metadata": {
        "id": "a8e80c9b"
      },
      "source": [
        "Метода градиентного бустинга - Gradient Boosting Regressor"
      ]
    },
    {
      "cell_type": "code",
      "execution_count": null,
      "id": "e1962eef",
      "metadata": {
        "colab": {
          "base_uri": "https://localhost:8080/"
        },
        "id": "e1962eef",
        "outputId": "5b8fd1d1-2411-4e47-fbd2-b40e0ba4c3ea"
      },
      "outputs": [
        {
          "output_type": "stream",
          "name": "stdout",
          "text": [
            "Gradient Boosting Regressor Results Train:\n",
            "Test score: 0.54\n",
            "Gradient Boosting Regressor Results:\n",
            "GBR_MAE:  381\n",
            "Test score: -0.12\n"
          ]
        }
      ],
      "source": [
        "gbr = make_pipeline(StandardScaler(), GradientBoostingRegressor())\n",
        "gbr.fit(X_train, y_train)\n",
        "y_pred_gbr = gbr.predict(X_test)\n",
        "mae_gbr = mean_absolute_error(y_pred_gbr, y_test)\n",
        "mse_gbr_elast = mean_squared_error(y_test,y_pred_gbr)\n",
        "\n",
        "print('Gradient Boosting Regressor Results Train:')\n",
        "print(\"Test score: {:.2f}\".format(gbr.score(X_train, y_train))) # Оценка тренировочной выборки\n",
        "print('Gradient Boosting Regressor Results:')\n",
        "print('GBR_MAE: ', round(mean_absolute_error(y_test, y_pred_gbr)))\n",
        "print(\"Test score: {:.2f}\".format(gbr.score(X_test, y_test)))# Оценка для тестовой выборки"
      ]
    },
    {
      "cell_type": "markdown",
      "id": "0166e41d",
      "metadata": {
        "id": "0166e41d"
      },
      "source": [
        "сравним наши модели по метрике МАЕ"
      ]
    },
    {
      "cell_type": "code",
      "execution_count": null,
      "id": "111bcc85",
      "metadata": {
        "id": "111bcc85"
      },
      "outputs": [],
      "source": [
        "#сравним наши модели по метрике МАЕ\n",
        "mae_df = {'Регрессор': ['RandomForest', 'Linear Regression', 'KNeighbors', 'DecisionTree', 'Gradient Boosting Regressor'], 'MAE': [mae_rfr, mae_lr, mae_knr, mae_dtr, mae_gbr]} \n",
        "\n",
        "mae_df = pd.DataFrame(mae_df)"
      ]
    },
    {
      "cell_type": "code",
      "execution_count": null,
      "id": "9eea4d7b",
      "metadata": {
        "id": "9eea4d7b",
        "outputId": "ca921fa7-e866-48df-d97d-347717bb9d2e"
      },
      "outputs": [
        {
          "data": {
            "text/html": [
              "<div>\n",
              "<style scoped>\n",
              "    .dataframe tbody tr th:only-of-type {\n",
              "        vertical-align: middle;\n",
              "    }\n",
              "\n",
              "    .dataframe tbody tr th {\n",
              "        vertical-align: top;\n",
              "    }\n",
              "\n",
              "    .dataframe thead th {\n",
              "        text-align: right;\n",
              "    }\n",
              "</style>\n",
              "<table border=\"1\" class=\"dataframe\">\n",
              "  <thead>\n",
              "    <tr style=\"text-align: right;\">\n",
              "      <th></th>\n",
              "      <th>Регрессор</th>\n",
              "      <th>MAE</th>\n",
              "    </tr>\n",
              "  </thead>\n",
              "  <tbody>\n",
              "    <tr>\n",
              "      <th>0</th>\n",
              "      <td>RandomForest</td>\n",
              "      <td>371.862402</td>\n",
              "    </tr>\n",
              "    <tr>\n",
              "      <th>1</th>\n",
              "      <td>Linear Regression</td>\n",
              "      <td>363.144068</td>\n",
              "    </tr>\n",
              "    <tr>\n",
              "      <th>2</th>\n",
              "      <td>KNeighbors</td>\n",
              "      <td>392.394492</td>\n",
              "    </tr>\n",
              "    <tr>\n",
              "      <th>3</th>\n",
              "      <td>DecisionTree</td>\n",
              "      <td>541.022823</td>\n",
              "    </tr>\n",
              "    <tr>\n",
              "      <th>4</th>\n",
              "      <td>Gradient Boosting Regressor</td>\n",
              "      <td>382.081859</td>\n",
              "    </tr>\n",
              "  </tbody>\n",
              "</table>\n",
              "</div>"
            ],
            "text/plain": [
              "                     Регрессор         MAE\n",
              "0                 RandomForest  371.862402\n",
              "1            Linear Regression  363.144068\n",
              "2                   KNeighbors  392.394492\n",
              "3                 DecisionTree  541.022823\n",
              "4  Gradient Boosting Regressor  382.081859"
            ]
          },
          "execution_count": 63,
          "metadata": {},
          "output_type": "execute_result"
        }
      ],
      "source": [
        "mae_df"
      ]
    },
    {
      "cell_type": "markdown",
      "id": "5f27271c",
      "metadata": {
        "id": "5f27271c"
      },
      "source": [
        "Модель линейная регрессия показала наилучшие показатели mae. Проведем поиск  по сетке гиперпараметров с перекрестной проверкой, количество блоков равно 10 (cv = 10), для \n",
        "модели линейной регрессии "
      ]
    },
    {
      "cell_type": "code",
      "execution_count": null,
      "id": "801ab0c4",
      "metadata": {
        "colab": {
          "base_uri": "https://localhost:8080/"
        },
        "id": "801ab0c4",
        "outputId": "481a5295-59a2-4d9b-c6ef-eb597c013dbc"
      },
      "outputs": [
        {
          "output_type": "execute_result",
          "data": {
            "text/plain": [
              "GridSearchCV(cv=10, estimator=Ridge(),\n",
              "             param_grid={'alpha': [1e-15, 1e-10, 1e-08, 0.001, 0.01, 1, 5, 10,\n",
              "                                   20, 30, 35, 40, 45, 50, 55, 100]},\n",
              "             scoring='neg_mean_squared_error')"
            ]
          },
          "metadata": {},
          "execution_count": 38
        }
      ],
      "source": [
        "ridge=Ridge()\n",
        "parameters={'alpha':[1e-15,1e-10,1e-8,1e-3,1e-2,1,5,10,20,30,35,40,45,50,55,100]}\n",
        "ridge_regressor=GridSearchCV(ridge,parameters,scoring='neg_mean_squared_error',cv=10)\n",
        "ridge_regressor.fit(X_train,y_train)"
      ]
    },
    {
      "cell_type": "code",
      "execution_count": null,
      "id": "407b8389",
      "metadata": {
        "colab": {
          "base_uri": "https://localhost:8080/"
        },
        "id": "407b8389",
        "outputId": "a4749d4e-8d51-41d9-9b95-3b8f24582874"
      },
      "outputs": [
        {
          "output_type": "stream",
          "name": "stdout",
          "text": [
            "{'alpha': 100}\n",
            "-223785.8626644357\n"
          ]
        }
      ],
      "source": [
        "print(ridge_regressor.best_params_)\n",
        "print(ridge_regressor.best_score_)"
      ]
    },
    {
      "cell_type": "code",
      "execution_count": null,
      "id": "0a37abff",
      "metadata": {
        "id": "0a37abff"
      },
      "outputs": [],
      "source": [
        "prediction_ridge=ridge_regressor.predict(X_test)"
      ]
    },
    {
      "cell_type": "code",
      "execution_count": null,
      "id": "dd050708",
      "metadata": {
        "scrolled": true,
        "id": "dd050708"
      },
      "outputs": [],
      "source": [
        "prediction_ridge"
      ]
    },
    {
      "cell_type": "code",
      "execution_count": null,
      "id": "3bdfd514",
      "metadata": {
        "colab": {
          "base_uri": "https://localhost:8080/"
        },
        "id": "3bdfd514",
        "outputId": "a270faec-baa0-469e-e2a1-94d3da440b17"
      },
      "outputs": [
        {
          "output_type": "stream",
          "name": "stdout",
          "text": [
            "lr_MAE_ridge:  363.0528\n"
          ]
        }
      ],
      "source": [
        "print('lr_MAE_ridge: ', round(mean_absolute_error(y_test, prediction_ridge),4))"
      ]
    },
    {
      "cell_type": "markdown",
      "source": [
        "Оптимизация с помощью GridSearch не улучшила показателей модели."
      ],
      "metadata": {
        "id": "vlfBj8Vhncr4"
      },
      "id": "vlfBj8Vhncr4"
    }
  ],
  "metadata": {
    "colab": {
      "provenance": []
    },
    "kernelspec": {
      "display_name": "Python 3 (ipykernel)",
      "language": "python",
      "name": "python3"
    },
    "language_info": {
      "codemirror_mode": {
        "name": "ipython",
        "version": 3
      },
      "file_extension": ".py",
      "mimetype": "text/x-python",
      "name": "python",
      "nbconvert_exporter": "python",
      "pygments_lexer": "ipython3",
      "version": "3.9.13"
    },
    "toc": {
      "base_numbering": 1,
      "nav_menu": {},
      "number_sections": true,
      "sideBar": false,
      "skip_h1_title": true,
      "title_cell": "Table of Contents",
      "title_sidebar": "Contents",
      "toc_cell": true,
      "toc_position": {
        "height": "47.7125px",
        "left": "108px",
        "top": "111.125px",
        "width": "159px"
      },
      "toc_section_display": false,
      "toc_window_display": true
    },
    "varInspector": {
      "cols": {
        "lenName": 16,
        "lenType": 16,
        "lenVar": 40
      },
      "kernels_config": {
        "python": {
          "delete_cmd_postfix": "",
          "delete_cmd_prefix": "del ",
          "library": "var_list.py",
          "varRefreshCmd": "print(var_dic_list())"
        },
        "r": {
          "delete_cmd_postfix": ") ",
          "delete_cmd_prefix": "rm(",
          "library": "var_list.r",
          "varRefreshCmd": "cat(var_dic_list()) "
        }
      },
      "types_to_exclude": [
        "module",
        "function",
        "builtin_function_or_method",
        "instance",
        "_Feature"
      ],
      "window_display": false
    }
  },
  "nbformat": 4,
  "nbformat_minor": 5
}