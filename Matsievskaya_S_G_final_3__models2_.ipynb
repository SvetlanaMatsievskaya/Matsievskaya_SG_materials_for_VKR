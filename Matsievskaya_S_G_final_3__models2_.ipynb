{
  "cells": [
    {
      "cell_type": "markdown",
      "id": "11f25ced",
      "metadata": {
        "toc": true,
        "id": "11f25ced"
      },
      "source": [
        "<h1>Table of Contents<span class=\"tocSkip\"></span></h1>\n",
        "<div class=\"toc\"><ul class=\"toc-item\"><li><span><a href=\"#Разработка-и-обучение-нескольких-моделей-для-прогноза-модуля-упругости-при-растяжении\" data-toc-modified-id=\"Разработка-и-обучение-нескольких-моделей-для-прогноза-модуля-упругости-при-растяжении-1\"><span class=\"toc-item-num\">1&nbsp;&nbsp;</span>Разработка и обучение нескольких моделей для прогноза модуля упругости при растяжении</a></span><ul class=\"toc-item\"><li><span><a href=\"#Прогнозируем-модуль-упругости-при-растяжении\" data-toc-modified-id=\"Прогнозируем-модуль-упругости-при-растяжении-1.1\"><span class=\"toc-item-num\">1.1&nbsp;&nbsp;</span>Прогнозируем модуль упругости при растяжении</a></span></li></ul></li></ul></div>"
      ]
    },
    {
      "cell_type": "markdown",
      "id": "de06f435",
      "metadata": {
        "id": "de06f435"
      },
      "source": [
        "# Продолжение кода "
      ]
    },
    {
      "cell_type": "code",
      "execution_count": 6,
      "id": "ec2fa9f7",
      "metadata": {
        "id": "ec2fa9f7"
      },
      "outputs": [],
      "source": [
        "import numpy as np\n",
        "import pandas as pd\n",
        "import matplotlib.pyplot as plt\n",
        "import tensorflow as tf\n",
        "import seaborn as sns\n",
        "import plotly.express as px\n",
        "import tensorflow as tf\n",
        "import sklearn\n",
        "\n",
        "from sklearn import linear_model\n",
        "from sklearn.ensemble import RandomForestRegressor, GradientBoostingRegressor\n",
        "from sklearn.linear_model import LinearRegression, LogisticRegression, SGDRegressor\n",
        "from sklearn.metrics import mean_squared_error, r2_score, mean_absolute_percentage_error, mean_absolute_error\n",
        "from sklearn.model_selection import train_test_split, GridSearchCV, KFold, cross_val_score\n",
        "from sklearn.neighbors import KNeighborsRegressor\n",
        "from sklearn.neural_network import MLPRegressor\n",
        "from sklearn.pipeline import make_pipeline, Pipeline\n",
        "from sklearn import preprocessing\n",
        "from sklearn.preprocessing import Normalizer, LabelEncoder, MinMaxScaler, StandardScaler\n",
        "from sklearn.svm import SVR\n",
        "from sklearn.tree import DecisionTreeRegressor\n",
        "from sklearn.pipeline import make_pipeline\n",
        "from sklearn.linear_model import Ridge\n",
        "from sklearn.model_selection import GridSearchCV\n",
        "import pickle\n",
        "\n",
        "from tensorflow import keras as keras\n",
        "from tensorflow.keras import layers\n",
        "from tensorflow.keras.layers import Dense, Flatten, Dropout, BatchNormalization, Activation\n",
        "from pandas import read_excel, DataFrame, Series\n",
        "from keras.wrappers.scikit_learn import KerasClassifier, KerasRegressor\n",
        "from tensorflow.keras.models import Sequential\n",
        "from numpy.random import seed\n",
        "from scipy import stats\n",
        "import warnings\n",
        "warnings.filterwarnings(\"ignore\")"
      ]
    },
    {
      "cell_type": "code",
      "execution_count": 8,
      "id": "b7c488a5",
      "metadata": {
        "colab": {
          "base_uri": "https://localhost:8080/",
          "height": 340
        },
        "id": "b7c488a5",
        "outputId": "8337d207-55bc-471a-8944-9e2fba9d7b87"
      },
      "outputs": [
        {
          "output_type": "execute_result",
          "data": {
            "text/plain": [
              "   Unnamed: 0  Соотношение матрица-наполнитель  Плотность, кг/м3  \\\n",
              "0           1                         1.857143            2030.0   \n",
              "1           3                         1.857143            2030.0   \n",
              "2           4                         2.771331            2030.0   \n",
              "3           5                         2.767918            2000.0   \n",
              "4           6                         2.569620            1910.0   \n",
              "\n",
              "   модуль упругости, ГПа  Количество отвердителя, м.%  \\\n",
              "0             738.736842                        50.00   \n",
              "1             738.736842                       129.00   \n",
              "2             753.000000                       111.86   \n",
              "3             748.000000                       111.86   \n",
              "4             807.000000                       111.86   \n",
              "\n",
              "   Содержание эпоксидных групп,%_2  Температура вспышки, С_2  \\\n",
              "0                        23.750000                284.615385   \n",
              "1                        21.250000                300.000000   \n",
              "2                        22.267857                284.615385   \n",
              "3                        22.267857                284.615385   \n",
              "4                        22.267857                284.615385   \n",
              "\n",
              "   Поверхностная плотность, г/м2  Модуль упругости при растяжении, ГПа  \\\n",
              "0                          210.0                                  70.0   \n",
              "1                          210.0                                  70.0   \n",
              "2                          210.0                                  70.0   \n",
              "3                          210.0                                  70.0   \n",
              "4                          210.0                                  70.0   \n",
              "\n",
              "   Прочность при растяжении, МПа  Потребление смолы, г/м2  Угол нашивки  \\\n",
              "0                         3000.0                    220.0             0   \n",
              "1                         3000.0                    220.0             0   \n",
              "2                         3000.0                    220.0             0   \n",
              "3                         3000.0                    220.0             0   \n",
              "4                         3000.0                    220.0             0   \n",
              "\n",
              "   Шаг нашивки  Плотность нашивки  \n",
              "0          4.0               60.0  \n",
              "1          5.0               47.0  \n",
              "2          5.0               57.0  \n",
              "3          5.0               60.0  \n",
              "4          5.0               70.0  "
            ],
            "text/html": [
              "\n",
              "  <div id=\"df-302d198f-0a21-4430-8104-c5747275b698\">\n",
              "    <div class=\"colab-df-container\">\n",
              "      <div>\n",
              "<style scoped>\n",
              "    .dataframe tbody tr th:only-of-type {\n",
              "        vertical-align: middle;\n",
              "    }\n",
              "\n",
              "    .dataframe tbody tr th {\n",
              "        vertical-align: top;\n",
              "    }\n",
              "\n",
              "    .dataframe thead th {\n",
              "        text-align: right;\n",
              "    }\n",
              "</style>\n",
              "<table border=\"1\" class=\"dataframe\">\n",
              "  <thead>\n",
              "    <tr style=\"text-align: right;\">\n",
              "      <th></th>\n",
              "      <th>Unnamed: 0</th>\n",
              "      <th>Соотношение матрица-наполнитель</th>\n",
              "      <th>Плотность, кг/м3</th>\n",
              "      <th>модуль упругости, ГПа</th>\n",
              "      <th>Количество отвердителя, м.%</th>\n",
              "      <th>Содержание эпоксидных групп,%_2</th>\n",
              "      <th>Температура вспышки, С_2</th>\n",
              "      <th>Поверхностная плотность, г/м2</th>\n",
              "      <th>Модуль упругости при растяжении, ГПа</th>\n",
              "      <th>Прочность при растяжении, МПа</th>\n",
              "      <th>Потребление смолы, г/м2</th>\n",
              "      <th>Угол нашивки</th>\n",
              "      <th>Шаг нашивки</th>\n",
              "      <th>Плотность нашивки</th>\n",
              "    </tr>\n",
              "  </thead>\n",
              "  <tbody>\n",
              "    <tr>\n",
              "      <th>0</th>\n",
              "      <td>1</td>\n",
              "      <td>1.857143</td>\n",
              "      <td>2030.0</td>\n",
              "      <td>738.736842</td>\n",
              "      <td>50.00</td>\n",
              "      <td>23.750000</td>\n",
              "      <td>284.615385</td>\n",
              "      <td>210.0</td>\n",
              "      <td>70.0</td>\n",
              "      <td>3000.0</td>\n",
              "      <td>220.0</td>\n",
              "      <td>0</td>\n",
              "      <td>4.0</td>\n",
              "      <td>60.0</td>\n",
              "    </tr>\n",
              "    <tr>\n",
              "      <th>1</th>\n",
              "      <td>3</td>\n",
              "      <td>1.857143</td>\n",
              "      <td>2030.0</td>\n",
              "      <td>738.736842</td>\n",
              "      <td>129.00</td>\n",
              "      <td>21.250000</td>\n",
              "      <td>300.000000</td>\n",
              "      <td>210.0</td>\n",
              "      <td>70.0</td>\n",
              "      <td>3000.0</td>\n",
              "      <td>220.0</td>\n",
              "      <td>0</td>\n",
              "      <td>5.0</td>\n",
              "      <td>47.0</td>\n",
              "    </tr>\n",
              "    <tr>\n",
              "      <th>2</th>\n",
              "      <td>4</td>\n",
              "      <td>2.771331</td>\n",
              "      <td>2030.0</td>\n",
              "      <td>753.000000</td>\n",
              "      <td>111.86</td>\n",
              "      <td>22.267857</td>\n",
              "      <td>284.615385</td>\n",
              "      <td>210.0</td>\n",
              "      <td>70.0</td>\n",
              "      <td>3000.0</td>\n",
              "      <td>220.0</td>\n",
              "      <td>0</td>\n",
              "      <td>5.0</td>\n",
              "      <td>57.0</td>\n",
              "    </tr>\n",
              "    <tr>\n",
              "      <th>3</th>\n",
              "      <td>5</td>\n",
              "      <td>2.767918</td>\n",
              "      <td>2000.0</td>\n",
              "      <td>748.000000</td>\n",
              "      <td>111.86</td>\n",
              "      <td>22.267857</td>\n",
              "      <td>284.615385</td>\n",
              "      <td>210.0</td>\n",
              "      <td>70.0</td>\n",
              "      <td>3000.0</td>\n",
              "      <td>220.0</td>\n",
              "      <td>0</td>\n",
              "      <td>5.0</td>\n",
              "      <td>60.0</td>\n",
              "    </tr>\n",
              "    <tr>\n",
              "      <th>4</th>\n",
              "      <td>6</td>\n",
              "      <td>2.569620</td>\n",
              "      <td>1910.0</td>\n",
              "      <td>807.000000</td>\n",
              "      <td>111.86</td>\n",
              "      <td>22.267857</td>\n",
              "      <td>284.615385</td>\n",
              "      <td>210.0</td>\n",
              "      <td>70.0</td>\n",
              "      <td>3000.0</td>\n",
              "      <td>220.0</td>\n",
              "      <td>0</td>\n",
              "      <td>5.0</td>\n",
              "      <td>70.0</td>\n",
              "    </tr>\n",
              "  </tbody>\n",
              "</table>\n",
              "</div>\n",
              "      <button class=\"colab-df-convert\" onclick=\"convertToInteractive('df-302d198f-0a21-4430-8104-c5747275b698')\"\n",
              "              title=\"Convert this dataframe to an interactive table.\"\n",
              "              style=\"display:none;\">\n",
              "        \n",
              "  <svg xmlns=\"http://www.w3.org/2000/svg\" height=\"24px\"viewBox=\"0 0 24 24\"\n",
              "       width=\"24px\">\n",
              "    <path d=\"M0 0h24v24H0V0z\" fill=\"none\"/>\n",
              "    <path d=\"M18.56 5.44l.94 2.06.94-2.06 2.06-.94-2.06-.94-.94-2.06-.94 2.06-2.06.94zm-11 1L8.5 8.5l.94-2.06 2.06-.94-2.06-.94L8.5 2.5l-.94 2.06-2.06.94zm10 10l.94 2.06.94-2.06 2.06-.94-2.06-.94-.94-2.06-.94 2.06-2.06.94z\"/><path d=\"M17.41 7.96l-1.37-1.37c-.4-.4-.92-.59-1.43-.59-.52 0-1.04.2-1.43.59L10.3 9.45l-7.72 7.72c-.78.78-.78 2.05 0 2.83L4 21.41c.39.39.9.59 1.41.59.51 0 1.02-.2 1.41-.59l7.78-7.78 2.81-2.81c.8-.78.8-2.07 0-2.86zM5.41 20L4 18.59l7.72-7.72 1.47 1.35L5.41 20z\"/>\n",
              "  </svg>\n",
              "      </button>\n",
              "      \n",
              "  <style>\n",
              "    .colab-df-container {\n",
              "      display:flex;\n",
              "      flex-wrap:wrap;\n",
              "      gap: 12px;\n",
              "    }\n",
              "\n",
              "    .colab-df-convert {\n",
              "      background-color: #E8F0FE;\n",
              "      border: none;\n",
              "      border-radius: 50%;\n",
              "      cursor: pointer;\n",
              "      display: none;\n",
              "      fill: #1967D2;\n",
              "      height: 32px;\n",
              "      padding: 0 0 0 0;\n",
              "      width: 32px;\n",
              "    }\n",
              "\n",
              "    .colab-df-convert:hover {\n",
              "      background-color: #E2EBFA;\n",
              "      box-shadow: 0px 1px 2px rgba(60, 64, 67, 0.3), 0px 1px 3px 1px rgba(60, 64, 67, 0.15);\n",
              "      fill: #174EA6;\n",
              "    }\n",
              "\n",
              "    [theme=dark] .colab-df-convert {\n",
              "      background-color: #3B4455;\n",
              "      fill: #D2E3FC;\n",
              "    }\n",
              "\n",
              "    [theme=dark] .colab-df-convert:hover {\n",
              "      background-color: #434B5C;\n",
              "      box-shadow: 0px 1px 3px 1px rgba(0, 0, 0, 0.15);\n",
              "      filter: drop-shadow(0px 1px 2px rgba(0, 0, 0, 0.3));\n",
              "      fill: #FFFFFF;\n",
              "    }\n",
              "  </style>\n",
              "\n",
              "      <script>\n",
              "        const buttonEl =\n",
              "          document.querySelector('#df-302d198f-0a21-4430-8104-c5747275b698 button.colab-df-convert');\n",
              "        buttonEl.style.display =\n",
              "          google.colab.kernel.accessAllowed ? 'block' : 'none';\n",
              "\n",
              "        async function convertToInteractive(key) {\n",
              "          const element = document.querySelector('#df-302d198f-0a21-4430-8104-c5747275b698');\n",
              "          const dataTable =\n",
              "            await google.colab.kernel.invokeFunction('convertToInteractive',\n",
              "                                                     [key], {});\n",
              "          if (!dataTable) return;\n",
              "\n",
              "          const docLinkHtml = 'Like what you see? Visit the ' +\n",
              "            '<a target=\"_blank\" href=https://colab.research.google.com/notebooks/data_table.ipynb>data table notebook</a>'\n",
              "            + ' to learn more about interactive tables.';\n",
              "          element.innerHTML = '';\n",
              "          dataTable['output_type'] = 'display_data';\n",
              "          await google.colab.output.renderOutput(dataTable, element);\n",
              "          const docLink = document.createElement('div');\n",
              "          docLink.innerHTML = docLinkHtml;\n",
              "          element.appendChild(docLink);\n",
              "        }\n",
              "      </script>\n",
              "    </div>\n",
              "  </div>\n",
              "  "
            ]
          },
          "metadata": {},
          "execution_count": 8
        }
      ],
      "source": [
        "df = pd.read_excel('df_clean.xlsx')\n",
        "df.head()"
      ]
    },
    {
      "cell_type": "code",
      "execution_count": 9,
      "id": "f2de1127",
      "metadata": {
        "id": "f2de1127"
      },
      "outputs": [],
      "source": [
        "#Удаляем первый неинформативный столбец\n",
        "df.drop(df.columns[df.columns.str.contains('unnamed', case=False)],\n",
        "           axis=1,\n",
        "           inplace=True)\n",
        "\n"
      ]
    },
    {
      "cell_type": "code",
      "execution_count": 10,
      "id": "9fdd03a3",
      "metadata": {
        "colab": {
          "base_uri": "https://localhost:8080/",
          "height": 340
        },
        "id": "9fdd03a3",
        "outputId": "5911753d-34fd-4a89-8922-3a5c437fc85d"
      },
      "outputs": [
        {
          "output_type": "execute_result",
          "data": {
            "text/plain": [
              "   Соотношение матрица-наполнитель  Плотность, кг/м3  модуль упругости, ГПа  \\\n",
              "0                         1.857143            2030.0             738.736842   \n",
              "1                         1.857143            2030.0             738.736842   \n",
              "2                         2.771331            2030.0             753.000000   \n",
              "3                         2.767918            2000.0             748.000000   \n",
              "4                         2.569620            1910.0             807.000000   \n",
              "\n",
              "   Количество отвердителя, м.%  Содержание эпоксидных групп,%_2  \\\n",
              "0                        50.00                        23.750000   \n",
              "1                       129.00                        21.250000   \n",
              "2                       111.86                        22.267857   \n",
              "3                       111.86                        22.267857   \n",
              "4                       111.86                        22.267857   \n",
              "\n",
              "   Температура вспышки, С_2  Поверхностная плотность, г/м2  \\\n",
              "0                284.615385                          210.0   \n",
              "1                300.000000                          210.0   \n",
              "2                284.615385                          210.0   \n",
              "3                284.615385                          210.0   \n",
              "4                284.615385                          210.0   \n",
              "\n",
              "   Модуль упругости при растяжении, ГПа  Прочность при растяжении, МПа  \\\n",
              "0                                  70.0                         3000.0   \n",
              "1                                  70.0                         3000.0   \n",
              "2                                  70.0                         3000.0   \n",
              "3                                  70.0                         3000.0   \n",
              "4                                  70.0                         3000.0   \n",
              "\n",
              "   Потребление смолы, г/м2  Угол нашивки  Шаг нашивки  Плотность нашивки  \n",
              "0                    220.0             0          4.0               60.0  \n",
              "1                    220.0             0          5.0               47.0  \n",
              "2                    220.0             0          5.0               57.0  \n",
              "3                    220.0             0          5.0               60.0  \n",
              "4                    220.0             0          5.0               70.0  "
            ],
            "text/html": [
              "\n",
              "  <div id=\"df-f7aff252-07df-4ffe-af5b-355b1d76b263\">\n",
              "    <div class=\"colab-df-container\">\n",
              "      <div>\n",
              "<style scoped>\n",
              "    .dataframe tbody tr th:only-of-type {\n",
              "        vertical-align: middle;\n",
              "    }\n",
              "\n",
              "    .dataframe tbody tr th {\n",
              "        vertical-align: top;\n",
              "    }\n",
              "\n",
              "    .dataframe thead th {\n",
              "        text-align: right;\n",
              "    }\n",
              "</style>\n",
              "<table border=\"1\" class=\"dataframe\">\n",
              "  <thead>\n",
              "    <tr style=\"text-align: right;\">\n",
              "      <th></th>\n",
              "      <th>Соотношение матрица-наполнитель</th>\n",
              "      <th>Плотность, кг/м3</th>\n",
              "      <th>модуль упругости, ГПа</th>\n",
              "      <th>Количество отвердителя, м.%</th>\n",
              "      <th>Содержание эпоксидных групп,%_2</th>\n",
              "      <th>Температура вспышки, С_2</th>\n",
              "      <th>Поверхностная плотность, г/м2</th>\n",
              "      <th>Модуль упругости при растяжении, ГПа</th>\n",
              "      <th>Прочность при растяжении, МПа</th>\n",
              "      <th>Потребление смолы, г/м2</th>\n",
              "      <th>Угол нашивки</th>\n",
              "      <th>Шаг нашивки</th>\n",
              "      <th>Плотность нашивки</th>\n",
              "    </tr>\n",
              "  </thead>\n",
              "  <tbody>\n",
              "    <tr>\n",
              "      <th>0</th>\n",
              "      <td>1.857143</td>\n",
              "      <td>2030.0</td>\n",
              "      <td>738.736842</td>\n",
              "      <td>50.00</td>\n",
              "      <td>23.750000</td>\n",
              "      <td>284.615385</td>\n",
              "      <td>210.0</td>\n",
              "      <td>70.0</td>\n",
              "      <td>3000.0</td>\n",
              "      <td>220.0</td>\n",
              "      <td>0</td>\n",
              "      <td>4.0</td>\n",
              "      <td>60.0</td>\n",
              "    </tr>\n",
              "    <tr>\n",
              "      <th>1</th>\n",
              "      <td>1.857143</td>\n",
              "      <td>2030.0</td>\n",
              "      <td>738.736842</td>\n",
              "      <td>129.00</td>\n",
              "      <td>21.250000</td>\n",
              "      <td>300.000000</td>\n",
              "      <td>210.0</td>\n",
              "      <td>70.0</td>\n",
              "      <td>3000.0</td>\n",
              "      <td>220.0</td>\n",
              "      <td>0</td>\n",
              "      <td>5.0</td>\n",
              "      <td>47.0</td>\n",
              "    </tr>\n",
              "    <tr>\n",
              "      <th>2</th>\n",
              "      <td>2.771331</td>\n",
              "      <td>2030.0</td>\n",
              "      <td>753.000000</td>\n",
              "      <td>111.86</td>\n",
              "      <td>22.267857</td>\n",
              "      <td>284.615385</td>\n",
              "      <td>210.0</td>\n",
              "      <td>70.0</td>\n",
              "      <td>3000.0</td>\n",
              "      <td>220.0</td>\n",
              "      <td>0</td>\n",
              "      <td>5.0</td>\n",
              "      <td>57.0</td>\n",
              "    </tr>\n",
              "    <tr>\n",
              "      <th>3</th>\n",
              "      <td>2.767918</td>\n",
              "      <td>2000.0</td>\n",
              "      <td>748.000000</td>\n",
              "      <td>111.86</td>\n",
              "      <td>22.267857</td>\n",
              "      <td>284.615385</td>\n",
              "      <td>210.0</td>\n",
              "      <td>70.0</td>\n",
              "      <td>3000.0</td>\n",
              "      <td>220.0</td>\n",
              "      <td>0</td>\n",
              "      <td>5.0</td>\n",
              "      <td>60.0</td>\n",
              "    </tr>\n",
              "    <tr>\n",
              "      <th>4</th>\n",
              "      <td>2.569620</td>\n",
              "      <td>1910.0</td>\n",
              "      <td>807.000000</td>\n",
              "      <td>111.86</td>\n",
              "      <td>22.267857</td>\n",
              "      <td>284.615385</td>\n",
              "      <td>210.0</td>\n",
              "      <td>70.0</td>\n",
              "      <td>3000.0</td>\n",
              "      <td>220.0</td>\n",
              "      <td>0</td>\n",
              "      <td>5.0</td>\n",
              "      <td>70.0</td>\n",
              "    </tr>\n",
              "  </tbody>\n",
              "</table>\n",
              "</div>\n",
              "      <button class=\"colab-df-convert\" onclick=\"convertToInteractive('df-f7aff252-07df-4ffe-af5b-355b1d76b263')\"\n",
              "              title=\"Convert this dataframe to an interactive table.\"\n",
              "              style=\"display:none;\">\n",
              "        \n",
              "  <svg xmlns=\"http://www.w3.org/2000/svg\" height=\"24px\"viewBox=\"0 0 24 24\"\n",
              "       width=\"24px\">\n",
              "    <path d=\"M0 0h24v24H0V0z\" fill=\"none\"/>\n",
              "    <path d=\"M18.56 5.44l.94 2.06.94-2.06 2.06-.94-2.06-.94-.94-2.06-.94 2.06-2.06.94zm-11 1L8.5 8.5l.94-2.06 2.06-.94-2.06-.94L8.5 2.5l-.94 2.06-2.06.94zm10 10l.94 2.06.94-2.06 2.06-.94-2.06-.94-.94-2.06-.94 2.06-2.06.94z\"/><path d=\"M17.41 7.96l-1.37-1.37c-.4-.4-.92-.59-1.43-.59-.52 0-1.04.2-1.43.59L10.3 9.45l-7.72 7.72c-.78.78-.78 2.05 0 2.83L4 21.41c.39.39.9.59 1.41.59.51 0 1.02-.2 1.41-.59l7.78-7.78 2.81-2.81c.8-.78.8-2.07 0-2.86zM5.41 20L4 18.59l7.72-7.72 1.47 1.35L5.41 20z\"/>\n",
              "  </svg>\n",
              "      </button>\n",
              "      \n",
              "  <style>\n",
              "    .colab-df-container {\n",
              "      display:flex;\n",
              "      flex-wrap:wrap;\n",
              "      gap: 12px;\n",
              "    }\n",
              "\n",
              "    .colab-df-convert {\n",
              "      background-color: #E8F0FE;\n",
              "      border: none;\n",
              "      border-radius: 50%;\n",
              "      cursor: pointer;\n",
              "      display: none;\n",
              "      fill: #1967D2;\n",
              "      height: 32px;\n",
              "      padding: 0 0 0 0;\n",
              "      width: 32px;\n",
              "    }\n",
              "\n",
              "    .colab-df-convert:hover {\n",
              "      background-color: #E2EBFA;\n",
              "      box-shadow: 0px 1px 2px rgba(60, 64, 67, 0.3), 0px 1px 3px 1px rgba(60, 64, 67, 0.15);\n",
              "      fill: #174EA6;\n",
              "    }\n",
              "\n",
              "    [theme=dark] .colab-df-convert {\n",
              "      background-color: #3B4455;\n",
              "      fill: #D2E3FC;\n",
              "    }\n",
              "\n",
              "    [theme=dark] .colab-df-convert:hover {\n",
              "      background-color: #434B5C;\n",
              "      box-shadow: 0px 1px 3px 1px rgba(0, 0, 0, 0.15);\n",
              "      filter: drop-shadow(0px 1px 2px rgba(0, 0, 0, 0.3));\n",
              "      fill: #FFFFFF;\n",
              "    }\n",
              "  </style>\n",
              "\n",
              "      <script>\n",
              "        const buttonEl =\n",
              "          document.querySelector('#df-f7aff252-07df-4ffe-af5b-355b1d76b263 button.colab-df-convert');\n",
              "        buttonEl.style.display =\n",
              "          google.colab.kernel.accessAllowed ? 'block' : 'none';\n",
              "\n",
              "        async function convertToInteractive(key) {\n",
              "          const element = document.querySelector('#df-f7aff252-07df-4ffe-af5b-355b1d76b263');\n",
              "          const dataTable =\n",
              "            await google.colab.kernel.invokeFunction('convertToInteractive',\n",
              "                                                     [key], {});\n",
              "          if (!dataTable) return;\n",
              "\n",
              "          const docLinkHtml = 'Like what you see? Visit the ' +\n",
              "            '<a target=\"_blank\" href=https://colab.research.google.com/notebooks/data_table.ipynb>data table notebook</a>'\n",
              "            + ' to learn more about interactive tables.';\n",
              "          element.innerHTML = '';\n",
              "          dataTable['output_type'] = 'display_data';\n",
              "          await google.colab.output.renderOutput(dataTable, element);\n",
              "          const docLink = document.createElement('div');\n",
              "          docLink.innerHTML = docLinkHtml;\n",
              "          element.appendChild(docLink);\n",
              "        }\n",
              "      </script>\n",
              "    </div>\n",
              "  </div>\n",
              "  "
            ]
          },
          "metadata": {},
          "execution_count": 10
        }
      ],
      "source": [
        "df.head()"
      ]
    },
    {
      "cell_type": "markdown",
      "id": "02a1b690",
      "metadata": {
        "id": "02a1b690"
      },
      "source": [
        "### Разработка и обучение нескольких моделей для прогноза модуля упругости при растяжении"
      ]
    },
    {
      "cell_type": "markdown",
      "id": "_kAhQ9YTAD4R",
      "metadata": {
        "id": "_kAhQ9YTAD4R"
      },
      "source": [
        "Сформируем выборки и посмотрим, что получилось"
      ]
    },
    {
      "cell_type": "markdown",
      "id": "23d4c720",
      "metadata": {
        "id": "23d4c720"
      },
      "source": [
        "#### Прогнозируем модуль упругости при растяжении"
      ]
    },
    {
      "cell_type": "code",
      "execution_count": 11,
      "id": "78da1902",
      "metadata": {
        "id": "78da1902"
      },
      "outputs": [],
      "source": [
        "X = df.drop(columns=['Модуль упругости при растяжении, ГПа'],\n",
        "            axis=1)"
      ]
    },
    {
      "cell_type": "code",
      "execution_count": 12,
      "id": "27f53726",
      "metadata": {
        "colab": {
          "base_uri": "https://localhost:8080/",
          "height": 540
        },
        "id": "27f53726",
        "outputId": "b03182fc-2f11-4b44-a0f3-797c8a334e1e"
      },
      "outputs": [
        {
          "output_type": "execute_result",
          "data": {
            "text/plain": [
              "     Соотношение матрица-наполнитель  Плотность, кг/м3  модуль упругости, ГПа  \\\n",
              "0                           1.857143       2030.000000             738.736842   \n",
              "1                           1.857143       2030.000000             738.736842   \n",
              "2                           2.771331       2030.000000             753.000000   \n",
              "3                           2.767918       2000.000000             748.000000   \n",
              "4                           2.569620       1910.000000             807.000000   \n",
              "..                               ...               ...                    ...   \n",
              "931                         2.271346       1952.087902             912.855545   \n",
              "932                         3.444022       2050.089171             444.732634   \n",
              "933                         3.280604       1972.372865             416.836524   \n",
              "934                         3.705351       2066.799773             741.475517   \n",
              "935                         3.808020       1890.413468             417.316232   \n",
              "\n",
              "     Количество отвердителя, м.%  Содержание эпоксидных групп,%_2  \\\n",
              "0                      50.000000                        23.750000   \n",
              "1                     129.000000                        21.250000   \n",
              "2                     111.860000                        22.267857   \n",
              "3                     111.860000                        22.267857   \n",
              "4                     111.860000                        22.267857   \n",
              "..                           ...                              ...   \n",
              "931                    86.992183                        20.123249   \n",
              "932                   145.981978                        19.599769   \n",
              "933                   110.533477                        23.957502   \n",
              "934                   141.397963                        19.246945   \n",
              "935                   129.183416                        27.474763   \n",
              "\n",
              "     Температура вспышки, С_2  Поверхностная плотность, г/м2  \\\n",
              "0                  284.615385                     210.000000   \n",
              "1                  300.000000                     210.000000   \n",
              "2                  284.615385                     210.000000   \n",
              "3                  284.615385                     210.000000   \n",
              "4                  284.615385                     210.000000   \n",
              "..                        ...                            ...   \n",
              "931                324.774576                     209.198700   \n",
              "932                254.215401                     350.660830   \n",
              "933                248.423047                     740.142791   \n",
              "934                275.779840                     641.468152   \n",
              "935                300.952708                     758.747882   \n",
              "\n",
              "     Прочность при растяжении, МПа  Потребление смолы, г/м2  Угол нашивки  \\\n",
              "0                      3000.000000               220.000000             0   \n",
              "1                      3000.000000               220.000000             0   \n",
              "2                      3000.000000               220.000000             0   \n",
              "3                      3000.000000               220.000000             0   \n",
              "4                      3000.000000               220.000000             0   \n",
              "..                             ...                      ...           ...   \n",
              "931                    2387.292495               125.007669             1   \n",
              "932                    2360.392784               117.730099             1   \n",
              "933                    2662.906040               236.606764             1   \n",
              "934                    2071.715856               197.126067             1   \n",
              "935                    2856.328932               194.754342             1   \n",
              "\n",
              "     Шаг нашивки  Плотность нашивки  \n",
              "0       4.000000          60.000000  \n",
              "1       5.000000          47.000000  \n",
              "2       5.000000          57.000000  \n",
              "3       5.000000          60.000000  \n",
              "4       5.000000          70.000000  \n",
              "..           ...                ...  \n",
              "931     9.076380          47.019770  \n",
              "932    10.565614          53.750790  \n",
              "933     4.161154          67.629684  \n",
              "934     6.313201          58.261074  \n",
              "935     6.078902          77.434468  \n",
              "\n",
              "[936 rows x 12 columns]"
            ],
            "text/html": [
              "\n",
              "  <div id=\"df-761e60e6-b5c0-4da9-b42b-89ab3d8c923c\">\n",
              "    <div class=\"colab-df-container\">\n",
              "      <div>\n",
              "<style scoped>\n",
              "    .dataframe tbody tr th:only-of-type {\n",
              "        vertical-align: middle;\n",
              "    }\n",
              "\n",
              "    .dataframe tbody tr th {\n",
              "        vertical-align: top;\n",
              "    }\n",
              "\n",
              "    .dataframe thead th {\n",
              "        text-align: right;\n",
              "    }\n",
              "</style>\n",
              "<table border=\"1\" class=\"dataframe\">\n",
              "  <thead>\n",
              "    <tr style=\"text-align: right;\">\n",
              "      <th></th>\n",
              "      <th>Соотношение матрица-наполнитель</th>\n",
              "      <th>Плотность, кг/м3</th>\n",
              "      <th>модуль упругости, ГПа</th>\n",
              "      <th>Количество отвердителя, м.%</th>\n",
              "      <th>Содержание эпоксидных групп,%_2</th>\n",
              "      <th>Температура вспышки, С_2</th>\n",
              "      <th>Поверхностная плотность, г/м2</th>\n",
              "      <th>Прочность при растяжении, МПа</th>\n",
              "      <th>Потребление смолы, г/м2</th>\n",
              "      <th>Угол нашивки</th>\n",
              "      <th>Шаг нашивки</th>\n",
              "      <th>Плотность нашивки</th>\n",
              "    </tr>\n",
              "  </thead>\n",
              "  <tbody>\n",
              "    <tr>\n",
              "      <th>0</th>\n",
              "      <td>1.857143</td>\n",
              "      <td>2030.000000</td>\n",
              "      <td>738.736842</td>\n",
              "      <td>50.000000</td>\n",
              "      <td>23.750000</td>\n",
              "      <td>284.615385</td>\n",
              "      <td>210.000000</td>\n",
              "      <td>3000.000000</td>\n",
              "      <td>220.000000</td>\n",
              "      <td>0</td>\n",
              "      <td>4.000000</td>\n",
              "      <td>60.000000</td>\n",
              "    </tr>\n",
              "    <tr>\n",
              "      <th>1</th>\n",
              "      <td>1.857143</td>\n",
              "      <td>2030.000000</td>\n",
              "      <td>738.736842</td>\n",
              "      <td>129.000000</td>\n",
              "      <td>21.250000</td>\n",
              "      <td>300.000000</td>\n",
              "      <td>210.000000</td>\n",
              "      <td>3000.000000</td>\n",
              "      <td>220.000000</td>\n",
              "      <td>0</td>\n",
              "      <td>5.000000</td>\n",
              "      <td>47.000000</td>\n",
              "    </tr>\n",
              "    <tr>\n",
              "      <th>2</th>\n",
              "      <td>2.771331</td>\n",
              "      <td>2030.000000</td>\n",
              "      <td>753.000000</td>\n",
              "      <td>111.860000</td>\n",
              "      <td>22.267857</td>\n",
              "      <td>284.615385</td>\n",
              "      <td>210.000000</td>\n",
              "      <td>3000.000000</td>\n",
              "      <td>220.000000</td>\n",
              "      <td>0</td>\n",
              "      <td>5.000000</td>\n",
              "      <td>57.000000</td>\n",
              "    </tr>\n",
              "    <tr>\n",
              "      <th>3</th>\n",
              "      <td>2.767918</td>\n",
              "      <td>2000.000000</td>\n",
              "      <td>748.000000</td>\n",
              "      <td>111.860000</td>\n",
              "      <td>22.267857</td>\n",
              "      <td>284.615385</td>\n",
              "      <td>210.000000</td>\n",
              "      <td>3000.000000</td>\n",
              "      <td>220.000000</td>\n",
              "      <td>0</td>\n",
              "      <td>5.000000</td>\n",
              "      <td>60.000000</td>\n",
              "    </tr>\n",
              "    <tr>\n",
              "      <th>4</th>\n",
              "      <td>2.569620</td>\n",
              "      <td>1910.000000</td>\n",
              "      <td>807.000000</td>\n",
              "      <td>111.860000</td>\n",
              "      <td>22.267857</td>\n",
              "      <td>284.615385</td>\n",
              "      <td>210.000000</td>\n",
              "      <td>3000.000000</td>\n",
              "      <td>220.000000</td>\n",
              "      <td>0</td>\n",
              "      <td>5.000000</td>\n",
              "      <td>70.000000</td>\n",
              "    </tr>\n",
              "    <tr>\n",
              "      <th>...</th>\n",
              "      <td>...</td>\n",
              "      <td>...</td>\n",
              "      <td>...</td>\n",
              "      <td>...</td>\n",
              "      <td>...</td>\n",
              "      <td>...</td>\n",
              "      <td>...</td>\n",
              "      <td>...</td>\n",
              "      <td>...</td>\n",
              "      <td>...</td>\n",
              "      <td>...</td>\n",
              "      <td>...</td>\n",
              "    </tr>\n",
              "    <tr>\n",
              "      <th>931</th>\n",
              "      <td>2.271346</td>\n",
              "      <td>1952.087902</td>\n",
              "      <td>912.855545</td>\n",
              "      <td>86.992183</td>\n",
              "      <td>20.123249</td>\n",
              "      <td>324.774576</td>\n",
              "      <td>209.198700</td>\n",
              "      <td>2387.292495</td>\n",
              "      <td>125.007669</td>\n",
              "      <td>1</td>\n",
              "      <td>9.076380</td>\n",
              "      <td>47.019770</td>\n",
              "    </tr>\n",
              "    <tr>\n",
              "      <th>932</th>\n",
              "      <td>3.444022</td>\n",
              "      <td>2050.089171</td>\n",
              "      <td>444.732634</td>\n",
              "      <td>145.981978</td>\n",
              "      <td>19.599769</td>\n",
              "      <td>254.215401</td>\n",
              "      <td>350.660830</td>\n",
              "      <td>2360.392784</td>\n",
              "      <td>117.730099</td>\n",
              "      <td>1</td>\n",
              "      <td>10.565614</td>\n",
              "      <td>53.750790</td>\n",
              "    </tr>\n",
              "    <tr>\n",
              "      <th>933</th>\n",
              "      <td>3.280604</td>\n",
              "      <td>1972.372865</td>\n",
              "      <td>416.836524</td>\n",
              "      <td>110.533477</td>\n",
              "      <td>23.957502</td>\n",
              "      <td>248.423047</td>\n",
              "      <td>740.142791</td>\n",
              "      <td>2662.906040</td>\n",
              "      <td>236.606764</td>\n",
              "      <td>1</td>\n",
              "      <td>4.161154</td>\n",
              "      <td>67.629684</td>\n",
              "    </tr>\n",
              "    <tr>\n",
              "      <th>934</th>\n",
              "      <td>3.705351</td>\n",
              "      <td>2066.799773</td>\n",
              "      <td>741.475517</td>\n",
              "      <td>141.397963</td>\n",
              "      <td>19.246945</td>\n",
              "      <td>275.779840</td>\n",
              "      <td>641.468152</td>\n",
              "      <td>2071.715856</td>\n",
              "      <td>197.126067</td>\n",
              "      <td>1</td>\n",
              "      <td>6.313201</td>\n",
              "      <td>58.261074</td>\n",
              "    </tr>\n",
              "    <tr>\n",
              "      <th>935</th>\n",
              "      <td>3.808020</td>\n",
              "      <td>1890.413468</td>\n",
              "      <td>417.316232</td>\n",
              "      <td>129.183416</td>\n",
              "      <td>27.474763</td>\n",
              "      <td>300.952708</td>\n",
              "      <td>758.747882</td>\n",
              "      <td>2856.328932</td>\n",
              "      <td>194.754342</td>\n",
              "      <td>1</td>\n",
              "      <td>6.078902</td>\n",
              "      <td>77.434468</td>\n",
              "    </tr>\n",
              "  </tbody>\n",
              "</table>\n",
              "<p>936 rows × 12 columns</p>\n",
              "</div>\n",
              "      <button class=\"colab-df-convert\" onclick=\"convertToInteractive('df-761e60e6-b5c0-4da9-b42b-89ab3d8c923c')\"\n",
              "              title=\"Convert this dataframe to an interactive table.\"\n",
              "              style=\"display:none;\">\n",
              "        \n",
              "  <svg xmlns=\"http://www.w3.org/2000/svg\" height=\"24px\"viewBox=\"0 0 24 24\"\n",
              "       width=\"24px\">\n",
              "    <path d=\"M0 0h24v24H0V0z\" fill=\"none\"/>\n",
              "    <path d=\"M18.56 5.44l.94 2.06.94-2.06 2.06-.94-2.06-.94-.94-2.06-.94 2.06-2.06.94zm-11 1L8.5 8.5l.94-2.06 2.06-.94-2.06-.94L8.5 2.5l-.94 2.06-2.06.94zm10 10l.94 2.06.94-2.06 2.06-.94-2.06-.94-.94-2.06-.94 2.06-2.06.94z\"/><path d=\"M17.41 7.96l-1.37-1.37c-.4-.4-.92-.59-1.43-.59-.52 0-1.04.2-1.43.59L10.3 9.45l-7.72 7.72c-.78.78-.78 2.05 0 2.83L4 21.41c.39.39.9.59 1.41.59.51 0 1.02-.2 1.41-.59l7.78-7.78 2.81-2.81c.8-.78.8-2.07 0-2.86zM5.41 20L4 18.59l7.72-7.72 1.47 1.35L5.41 20z\"/>\n",
              "  </svg>\n",
              "      </button>\n",
              "      \n",
              "  <style>\n",
              "    .colab-df-container {\n",
              "      display:flex;\n",
              "      flex-wrap:wrap;\n",
              "      gap: 12px;\n",
              "    }\n",
              "\n",
              "    .colab-df-convert {\n",
              "      background-color: #E8F0FE;\n",
              "      border: none;\n",
              "      border-radius: 50%;\n",
              "      cursor: pointer;\n",
              "      display: none;\n",
              "      fill: #1967D2;\n",
              "      height: 32px;\n",
              "      padding: 0 0 0 0;\n",
              "      width: 32px;\n",
              "    }\n",
              "\n",
              "    .colab-df-convert:hover {\n",
              "      background-color: #E2EBFA;\n",
              "      box-shadow: 0px 1px 2px rgba(60, 64, 67, 0.3), 0px 1px 3px 1px rgba(60, 64, 67, 0.15);\n",
              "      fill: #174EA6;\n",
              "    }\n",
              "\n",
              "    [theme=dark] .colab-df-convert {\n",
              "      background-color: #3B4455;\n",
              "      fill: #D2E3FC;\n",
              "    }\n",
              "\n",
              "    [theme=dark] .colab-df-convert:hover {\n",
              "      background-color: #434B5C;\n",
              "      box-shadow: 0px 1px 3px 1px rgba(0, 0, 0, 0.15);\n",
              "      filter: drop-shadow(0px 1px 2px rgba(0, 0, 0, 0.3));\n",
              "      fill: #FFFFFF;\n",
              "    }\n",
              "  </style>\n",
              "\n",
              "      <script>\n",
              "        const buttonEl =\n",
              "          document.querySelector('#df-761e60e6-b5c0-4da9-b42b-89ab3d8c923c button.colab-df-convert');\n",
              "        buttonEl.style.display =\n",
              "          google.colab.kernel.accessAllowed ? 'block' : 'none';\n",
              "\n",
              "        async function convertToInteractive(key) {\n",
              "          const element = document.querySelector('#df-761e60e6-b5c0-4da9-b42b-89ab3d8c923c');\n",
              "          const dataTable =\n",
              "            await google.colab.kernel.invokeFunction('convertToInteractive',\n",
              "                                                     [key], {});\n",
              "          if (!dataTable) return;\n",
              "\n",
              "          const docLinkHtml = 'Like what you see? Visit the ' +\n",
              "            '<a target=\"_blank\" href=https://colab.research.google.com/notebooks/data_table.ipynb>data table notebook</a>'\n",
              "            + ' to learn more about interactive tables.';\n",
              "          element.innerHTML = '';\n",
              "          dataTable['output_type'] = 'display_data';\n",
              "          await google.colab.output.renderOutput(dataTable, element);\n",
              "          const docLink = document.createElement('div');\n",
              "          docLink.innerHTML = docLinkHtml;\n",
              "          element.appendChild(docLink);\n",
              "        }\n",
              "      </script>\n",
              "    </div>\n",
              "  </div>\n",
              "  "
            ]
          },
          "metadata": {},
          "execution_count": 12
        }
      ],
      "source": [
        "X"
      ]
    },
    {
      "cell_type": "code",
      "execution_count": 13,
      "id": "616ae52c",
      "metadata": {
        "id": "616ae52c"
      },
      "outputs": [],
      "source": [
        "y = df['Модуль упругости при растяжении, ГПа']"
      ]
    },
    {
      "cell_type": "code",
      "execution_count": 14,
      "id": "33633410",
      "metadata": {
        "colab": {
          "base_uri": "https://localhost:8080/"
        },
        "id": "33633410",
        "outputId": "3f4638a5-d20c-48e3-b5ac-e39aea37172d"
      },
      "outputs": [
        {
          "output_type": "execute_result",
          "data": {
            "text/plain": [
              "0      70.000000\n",
              "1      70.000000\n",
              "2      70.000000\n",
              "3      70.000000\n",
              "4      70.000000\n",
              "         ...    \n",
              "931    73.090961\n",
              "932    72.920827\n",
              "933    74.734344\n",
              "934    74.042708\n",
              "935    74.309704\n",
              "Name: Модуль упругости при растяжении, ГПа, Length: 936, dtype: float64"
            ]
          },
          "metadata": {},
          "execution_count": 14
        }
      ],
      "source": [
        "y"
      ]
    },
    {
      "cell_type": "code",
      "execution_count": 15,
      "id": "fa21cc5f",
      "metadata": {
        "id": "fa21cc5f"
      },
      "outputs": [],
      "source": [
        "# разбиваем на тестовую, тренировочную выборки, выделяя предикторы и целевые переменные\n",
        "\n",
        "X_train, X_test, y_train, y_test = train_test_split(X,\n",
        "                                                            y,\n",
        "                                                            test_size=0.3,\n",
        "                                                            random_state=42)"
      ]
    },
    {
      "cell_type": "code",
      "execution_count": 16,
      "id": "8e8b9395",
      "metadata": {
        "colab": {
          "base_uri": "https://localhost:8080/",
          "height": 322
        },
        "id": "8e8b9395",
        "outputId": "e070618e-8a76-4fc2-8e1d-50ea2d28f0e3"
      },
      "outputs": [
        {
          "output_type": "execute_result",
          "data": {
            "text/plain": [
              "     Соотношение матрица-наполнитель  Плотность, кг/м3  модуль упругости, ГПа  \\\n",
              "133                         3.267523       2107.549113             712.148822   \n",
              "756                         2.456261       1984.954030             624.848491   \n",
              "693                         2.548177       1976.868448             630.925295   \n",
              "853                         2.692487       1989.516306             408.332860   \n",
              "501                         3.874909       1968.258174            1120.960568   \n",
              "\n",
              "     Количество отвердителя, м.%  Содержание эпоксидных групп,%_2  \\\n",
              "133                    60.994261                        27.312167   \n",
              "756                   130.912608                        23.962165   \n",
              "693                   136.600341                        25.027039   \n",
              "853                    38.668500                        19.431859   \n",
              "501                   140.515422                        21.039422   \n",
              "\n",
              "     Температура вспышки, С_2  Поверхностная плотность, г/м2  \\\n",
              "133                268.485007                     121.565802   \n",
              "756                246.968412                     276.827020   \n",
              "693                280.842690                     590.865535   \n",
              "853                285.364448                      80.275335   \n",
              "501                236.546673                     980.920588   \n",
              "\n",
              "     Прочность при растяжении, МПа  Потребление смолы, г/м2  Угол нашивки  \\\n",
              "133                    3460.438212               340.016626             0   \n",
              "756                    2150.828833               126.966998             1   \n",
              "693                    3033.723583               233.705451             1   \n",
              "853                    1811.860024                82.583161             1   \n",
              "501                    2624.109841               179.673581             1   \n",
              "\n",
              "     Шаг нашивки  Плотность нашивки  \n",
              "133     4.570892          78.547358  \n",
              "756    11.704404          53.744193  \n",
              "693     3.980068          43.107490  \n",
              "853     8.650571          71.108089  \n",
              "501     4.830555          57.205013  "
            ],
            "text/html": [
              "\n",
              "  <div id=\"df-3edd0af0-f32c-4398-9ba6-803b2927f0f7\">\n",
              "    <div class=\"colab-df-container\">\n",
              "      <div>\n",
              "<style scoped>\n",
              "    .dataframe tbody tr th:only-of-type {\n",
              "        vertical-align: middle;\n",
              "    }\n",
              "\n",
              "    .dataframe tbody tr th {\n",
              "        vertical-align: top;\n",
              "    }\n",
              "\n",
              "    .dataframe thead th {\n",
              "        text-align: right;\n",
              "    }\n",
              "</style>\n",
              "<table border=\"1\" class=\"dataframe\">\n",
              "  <thead>\n",
              "    <tr style=\"text-align: right;\">\n",
              "      <th></th>\n",
              "      <th>Соотношение матрица-наполнитель</th>\n",
              "      <th>Плотность, кг/м3</th>\n",
              "      <th>модуль упругости, ГПа</th>\n",
              "      <th>Количество отвердителя, м.%</th>\n",
              "      <th>Содержание эпоксидных групп,%_2</th>\n",
              "      <th>Температура вспышки, С_2</th>\n",
              "      <th>Поверхностная плотность, г/м2</th>\n",
              "      <th>Прочность при растяжении, МПа</th>\n",
              "      <th>Потребление смолы, г/м2</th>\n",
              "      <th>Угол нашивки</th>\n",
              "      <th>Шаг нашивки</th>\n",
              "      <th>Плотность нашивки</th>\n",
              "    </tr>\n",
              "  </thead>\n",
              "  <tbody>\n",
              "    <tr>\n",
              "      <th>133</th>\n",
              "      <td>3.267523</td>\n",
              "      <td>2107.549113</td>\n",
              "      <td>712.148822</td>\n",
              "      <td>60.994261</td>\n",
              "      <td>27.312167</td>\n",
              "      <td>268.485007</td>\n",
              "      <td>121.565802</td>\n",
              "      <td>3460.438212</td>\n",
              "      <td>340.016626</td>\n",
              "      <td>0</td>\n",
              "      <td>4.570892</td>\n",
              "      <td>78.547358</td>\n",
              "    </tr>\n",
              "    <tr>\n",
              "      <th>756</th>\n",
              "      <td>2.456261</td>\n",
              "      <td>1984.954030</td>\n",
              "      <td>624.848491</td>\n",
              "      <td>130.912608</td>\n",
              "      <td>23.962165</td>\n",
              "      <td>246.968412</td>\n",
              "      <td>276.827020</td>\n",
              "      <td>2150.828833</td>\n",
              "      <td>126.966998</td>\n",
              "      <td>1</td>\n",
              "      <td>11.704404</td>\n",
              "      <td>53.744193</td>\n",
              "    </tr>\n",
              "    <tr>\n",
              "      <th>693</th>\n",
              "      <td>2.548177</td>\n",
              "      <td>1976.868448</td>\n",
              "      <td>630.925295</td>\n",
              "      <td>136.600341</td>\n",
              "      <td>25.027039</td>\n",
              "      <td>280.842690</td>\n",
              "      <td>590.865535</td>\n",
              "      <td>3033.723583</td>\n",
              "      <td>233.705451</td>\n",
              "      <td>1</td>\n",
              "      <td>3.980068</td>\n",
              "      <td>43.107490</td>\n",
              "    </tr>\n",
              "    <tr>\n",
              "      <th>853</th>\n",
              "      <td>2.692487</td>\n",
              "      <td>1989.516306</td>\n",
              "      <td>408.332860</td>\n",
              "      <td>38.668500</td>\n",
              "      <td>19.431859</td>\n",
              "      <td>285.364448</td>\n",
              "      <td>80.275335</td>\n",
              "      <td>1811.860024</td>\n",
              "      <td>82.583161</td>\n",
              "      <td>1</td>\n",
              "      <td>8.650571</td>\n",
              "      <td>71.108089</td>\n",
              "    </tr>\n",
              "    <tr>\n",
              "      <th>501</th>\n",
              "      <td>3.874909</td>\n",
              "      <td>1968.258174</td>\n",
              "      <td>1120.960568</td>\n",
              "      <td>140.515422</td>\n",
              "      <td>21.039422</td>\n",
              "      <td>236.546673</td>\n",
              "      <td>980.920588</td>\n",
              "      <td>2624.109841</td>\n",
              "      <td>179.673581</td>\n",
              "      <td>1</td>\n",
              "      <td>4.830555</td>\n",
              "      <td>57.205013</td>\n",
              "    </tr>\n",
              "  </tbody>\n",
              "</table>\n",
              "</div>\n",
              "      <button class=\"colab-df-convert\" onclick=\"convertToInteractive('df-3edd0af0-f32c-4398-9ba6-803b2927f0f7')\"\n",
              "              title=\"Convert this dataframe to an interactive table.\"\n",
              "              style=\"display:none;\">\n",
              "        \n",
              "  <svg xmlns=\"http://www.w3.org/2000/svg\" height=\"24px\"viewBox=\"0 0 24 24\"\n",
              "       width=\"24px\">\n",
              "    <path d=\"M0 0h24v24H0V0z\" fill=\"none\"/>\n",
              "    <path d=\"M18.56 5.44l.94 2.06.94-2.06 2.06-.94-2.06-.94-.94-2.06-.94 2.06-2.06.94zm-11 1L8.5 8.5l.94-2.06 2.06-.94-2.06-.94L8.5 2.5l-.94 2.06-2.06.94zm10 10l.94 2.06.94-2.06 2.06-.94-2.06-.94-.94-2.06-.94 2.06-2.06.94z\"/><path d=\"M17.41 7.96l-1.37-1.37c-.4-.4-.92-.59-1.43-.59-.52 0-1.04.2-1.43.59L10.3 9.45l-7.72 7.72c-.78.78-.78 2.05 0 2.83L4 21.41c.39.39.9.59 1.41.59.51 0 1.02-.2 1.41-.59l7.78-7.78 2.81-2.81c.8-.78.8-2.07 0-2.86zM5.41 20L4 18.59l7.72-7.72 1.47 1.35L5.41 20z\"/>\n",
              "  </svg>\n",
              "      </button>\n",
              "      \n",
              "  <style>\n",
              "    .colab-df-container {\n",
              "      display:flex;\n",
              "      flex-wrap:wrap;\n",
              "      gap: 12px;\n",
              "    }\n",
              "\n",
              "    .colab-df-convert {\n",
              "      background-color: #E8F0FE;\n",
              "      border: none;\n",
              "      border-radius: 50%;\n",
              "      cursor: pointer;\n",
              "      display: none;\n",
              "      fill: #1967D2;\n",
              "      height: 32px;\n",
              "      padding: 0 0 0 0;\n",
              "      width: 32px;\n",
              "    }\n",
              "\n",
              "    .colab-df-convert:hover {\n",
              "      background-color: #E2EBFA;\n",
              "      box-shadow: 0px 1px 2px rgba(60, 64, 67, 0.3), 0px 1px 3px 1px rgba(60, 64, 67, 0.15);\n",
              "      fill: #174EA6;\n",
              "    }\n",
              "\n",
              "    [theme=dark] .colab-df-convert {\n",
              "      background-color: #3B4455;\n",
              "      fill: #D2E3FC;\n",
              "    }\n",
              "\n",
              "    [theme=dark] .colab-df-convert:hover {\n",
              "      background-color: #434B5C;\n",
              "      box-shadow: 0px 1px 3px 1px rgba(0, 0, 0, 0.15);\n",
              "      filter: drop-shadow(0px 1px 2px rgba(0, 0, 0, 0.3));\n",
              "      fill: #FFFFFF;\n",
              "    }\n",
              "  </style>\n",
              "\n",
              "      <script>\n",
              "        const buttonEl =\n",
              "          document.querySelector('#df-3edd0af0-f32c-4398-9ba6-803b2927f0f7 button.colab-df-convert');\n",
              "        buttonEl.style.display =\n",
              "          google.colab.kernel.accessAllowed ? 'block' : 'none';\n",
              "\n",
              "        async function convertToInteractive(key) {\n",
              "          const element = document.querySelector('#df-3edd0af0-f32c-4398-9ba6-803b2927f0f7');\n",
              "          const dataTable =\n",
              "            await google.colab.kernel.invokeFunction('convertToInteractive',\n",
              "                                                     [key], {});\n",
              "          if (!dataTable) return;\n",
              "\n",
              "          const docLinkHtml = 'Like what you see? Visit the ' +\n",
              "            '<a target=\"_blank\" href=https://colab.research.google.com/notebooks/data_table.ipynb>data table notebook</a>'\n",
              "            + ' to learn more about interactive tables.';\n",
              "          element.innerHTML = '';\n",
              "          dataTable['output_type'] = 'display_data';\n",
              "          await google.colab.output.renderOutput(dataTable, element);\n",
              "          const docLink = document.createElement('div');\n",
              "          docLink.innerHTML = docLinkHtml;\n",
              "          element.appendChild(docLink);\n",
              "        }\n",
              "      </script>\n",
              "    </div>\n",
              "  </div>\n",
              "  "
            ]
          },
          "metadata": {},
          "execution_count": 16
        }
      ],
      "source": [
        "X_train.head()"
      ]
    },
    {
      "cell_type": "code",
      "execution_count": 17,
      "id": "5fbd133d",
      "metadata": {
        "colab": {
          "base_uri": "https://localhost:8080/"
        },
        "id": "5fbd133d",
        "outputId": "cbf01ffb-45e9-4caa-ade8-934c8f7b64cc"
      },
      "outputs": [
        {
          "output_type": "execute_result",
          "data": {
            "text/plain": [
              "133    81.053293\n",
              "756    73.137189\n",
              "693    73.559943\n",
              "853    75.312292\n",
              "501    72.843344\n",
              "         ...    \n",
              "106    71.680491\n",
              "270    72.461391\n",
              "860    75.162208\n",
              "435    73.119552\n",
              "102    68.187509\n",
              "Name: Модуль упругости при растяжении, ГПа, Length: 655, dtype: float64"
            ]
          },
          "metadata": {},
          "execution_count": 17
        }
      ],
      "source": [
        "y_train"
      ]
    },
    {
      "cell_type": "code",
      "execution_count": 18,
      "id": "13e64771",
      "metadata": {
        "colab": {
          "base_uri": "https://localhost:8080/"
        },
        "id": "13e64771",
        "outputId": "8927d9ed-eb8e-4f44-a737-298a63eaf068"
      },
      "outputs": [
        {
          "output_type": "execute_result",
          "data": {
            "text/plain": [
              "321    77.825677\n",
              "70     69.181599\n",
              "209    71.337572\n",
              "656    77.856284\n",
              "685    70.364622\n",
              "         ...    \n",
              "371    69.492433\n",
              "430    75.280332\n",
              "292    74.148570\n",
              "412    69.367179\n",
              "557    67.803680\n",
              "Name: Модуль упругости при растяжении, ГПа, Length: 281, dtype: float64"
            ]
          },
          "metadata": {},
          "execution_count": 18
        }
      ],
      "source": [
        "y_test"
      ]
    },
    {
      "cell_type": "code",
      "execution_count": 19,
      "id": "ca0034e8",
      "metadata": {
        "colab": {
          "base_uri": "https://localhost:8080/"
        },
        "id": "ca0034e8",
        "outputId": "6fc9db63-9ac2-40c7-aedb-bc12a77622c2"
      },
      "outputs": [
        {
          "output_type": "execute_result",
          "data": {
            "text/plain": [
              "(655,)"
            ]
          },
          "metadata": {},
          "execution_count": 19
        }
      ],
      "source": [
        "y_train.shape"
      ]
    },
    {
      "cell_type": "code",
      "execution_count": 20,
      "id": "908641e5",
      "metadata": {
        "id": "908641e5"
      },
      "outputs": [],
      "source": [
        "#Функция для сравнения результатов предсказаний с моделью, выдающей среднее значение по тестовой выборке\n",
        "def mean_model(y_test):\n",
        "    return [np.mean(y_test) for _ in range(len(y_test))]\n",
        "y_pred_mean = mean_model(y_test)"
      ]
    },
    {
      "cell_type": "markdown",
      "id": "55d79315",
      "metadata": {
        "id": "55d79315"
      },
      "source": [
        "Линейная регрессия"
      ]
    },
    {
      "cell_type": "code",
      "execution_count": 21,
      "id": "4e3a06fb",
      "metadata": {
        "id": "4e3a06fb"
      },
      "outputs": [],
      "source": [
        "#Создадим переменную для названия всех столбцов. Это нам пригодится при построении моделей. И перейдем к визуализации данных\n",
        "df.columns\n",
        "#column_names = [\"Соотношение матрица-наполнитель\",\"Плотность, кг/м3\",\"модуль упругости, ГПа\",\"Количество отвердителя, м.%\",\n",
        "#         \"Содержание эпоксидных групп,%_2\",\"Температура вспышки, С_2\",\"Поверхностная плотность, г/м2\",\n",
        "#         \"Модуль упругости при растяжении, ГПа\",\"Прочность при растяжении, МПа\",\"Потребление смолы, г/м2\",\n",
        "#        \"Угол нашивки, град\",\"Шаг нашивки\",\"Плотность нашивки\"]\n",
        "column_names = df.columns"
      ]
    },
    {
      "cell_type": "markdown",
      "id": "8e92fbf6",
      "metadata": {
        "id": "8e92fbf6"
      },
      "source": [
        "Линейная регрессия"
      ]
    },
    {
      "cell_type": "code",
      "execution_count": 22,
      "id": "ca544d2b",
      "metadata": {
        "colab": {
          "base_uri": "https://localhost:8080/"
        },
        "id": "ca544d2b",
        "outputId": "007786b4-d8e0-46e8-b771-e3561ebc43af"
      },
      "outputs": [
        {
          "output_type": "stream",
          "name": "stdout",
          "text": [
            "Linear Regression Results Train:\n",
            "Test score: 0.02\n",
            "Linear Regression Results:\n",
            "lr_MAE:  2\n",
            "Test score: -0.01\n"
          ]
        }
      ],
      "source": [
        "#построение модели и визуализация Линейной регрессии\n",
        "lr = make_pipeline(StandardScaler(),LinearRegression())\n",
        "lr.fit(X_train, y_train)\n",
        "y_pred_lr = lr.predict(X_test)\n",
        "mae_lr = mean_absolute_error(y_pred_lr, y_test)\n",
        "\n",
        "print('Linear Regression Results Train:') # Оценка тренировочной выборки\n",
        "print(\"Test score: {:.2f}\".format(lr.score(X_train, y_train)))\n",
        "print('Linear Regression Results:')    \n",
        "print('lr_MAE: ', round(mean_absolute_error(y_test, y_pred_lr)))\n",
        "\n",
        "print(\"Test score: {:.2f}\".format(lr.score(X_test, y_test))) # Оценка тестовой выборки"
      ]
    },
    {
      "cell_type": "code",
      "execution_count": 23,
      "id": "e9dadf5c",
      "metadata": {
        "id": "e9dadf5c"
      },
      "outputs": [],
      "source": [
        "pickle.dump(lr, open('model_linear.pkl','wb'))"
      ]
    },
    {
      "cell_type": "markdown",
      "id": "e61a9b6e",
      "metadata": {
        "id": "e61a9b6e"
      },
      "source": [
        "Decision Tree"
      ]
    },
    {
      "cell_type": "code",
      "execution_count": 35,
      "id": "942dbb66",
      "metadata": {
        "colab": {
          "base_uri": "https://localhost:8080/"
        },
        "id": "942dbb66",
        "outputId": "4fbc5806-ff66-4db9-ffc2-d9dcaae6040b"
      },
      "outputs": [
        {
          "output_type": "stream",
          "name": "stdout",
          "text": [
            "Decision Tree Regressor Results Train:\n",
            "Test score: 1.00\n",
            "Decision Tree Regressor Results:\n",
            "DTR_MAE:  4\n",
            "Test score: -1.16\n"
          ]
        }
      ],
      "source": [
        "#Деревья решений - Decision Tree Regressor \n",
        "\n",
        "dtr = make_pipeline(StandardScaler(),DecisionTreeRegressor())\n",
        "dtr.fit(X_train, y_train)\n",
        "y_pred_dtr = dtr.predict(X_test)\n",
        "mae_dtr = mean_absolute_error(y_pred_dtr, y_test)\n",
        "\n",
        "print('Decision Tree Regressor Results Train:')\n",
        "print(\"Test score: {:.2f}\".format(dtr.score(X_train, y_train)))# Оценка тренировочной выборки\n",
        "print('Decision Tree Regressor Results:')\n",
        "print('DTR_MAE: ', round(mean_absolute_error(y_test, y_pred_dtr)))\n",
        "print(\"Test score: {:.2f}\".format(dtr.score(X_test, y_test)))# Оценка тестовой выборки"
      ]
    },
    {
      "cell_type": "markdown",
      "id": "158472a2",
      "metadata": {
        "id": "158472a2"
      },
      "source": [
        "Метод случайного леса - Random Forest Regressor"
      ]
    },
    {
      "cell_type": "code",
      "execution_count": 36,
      "id": "3a3c3cb9",
      "metadata": {
        "colab": {
          "base_uri": "https://localhost:8080/"
        },
        "id": "3a3c3cb9",
        "outputId": "52955df0-3333-4284-e885-a5c705da2941"
      },
      "outputs": [
        {
          "output_type": "stream",
          "name": "stdout",
          "text": [
            "Random Forest Regressor Results Train:\n",
            "Test score: 0.43\n",
            "Random Forest Regressor Results:\n",
            "RF_MAE:  2\n",
            "Test score: -0.04\n"
          ]
        }
      ],
      "source": [
        "#построение модели случайный лес\n",
        "rfr = make_pipeline(StandardScaler(),RandomForestRegressor(n_estimators=15,max_depth=7, random_state=33))\n",
        "rfr.fit(X_train, y_train.values)\n",
        "y_pred_forest = rfr.predict(X_test)\n",
        "mae_rfr = mean_absolute_error(y_pred_forest, y_test)\n",
        "\n",
        "print('Random Forest Regressor Results Train:')\n",
        "print(\"Test score: {:.2f}\".format(rfr.score(X_train, y_train))) # Оценка тренировочной выборки\n",
        "print('Random Forest Regressor Results:')\n",
        "print('RF_MAE: ', round(mean_absolute_error(y_test, y_pred_forest)))\n",
        "print(\"Test score: {:.2f}\".format(rfr.score(X_test, y_test))) # Оценка тестовой выборки"
      ]
    },
    {
      "cell_type": "markdown",
      "id": "819eebed",
      "metadata": {
        "id": "819eebed"
      },
      "source": [
        "Метод К ближайших соседей"
      ]
    },
    {
      "cell_type": "code",
      "execution_count": 37,
      "id": "8d8d5bb5",
      "metadata": {
        "colab": {
          "base_uri": "https://localhost:8080/"
        },
        "id": "8d8d5bb5",
        "outputId": "3134bd20-0505-45a2-b6c4-a33cfac9427b"
      },
      "outputs": [
        {
          "output_type": "stream",
          "name": "stdout",
          "text": [
            "K Neighbors Regressor  Results Train:\n",
            "Test score: 0.16\n",
            "K Neighbors Regressor  Results:\n",
            "KNN_MAE:  3\n",
            "Test score: -0.22\n"
          ]
        }
      ],
      "source": [
        "# Метод К ближайших соседей - K Neighbors Regressor\n",
        "knn = make_pipeline(StandardScaler(),KNeighborsRegressor(n_neighbors=5))\n",
        "knn.fit(X_train, y_train)\n",
        "y_pred_knn = knn.predict(X_test)\n",
        "mae_knr = mean_absolute_error(y_pred_knn, y_test)\n",
        "\n",
        "print('K Neighbors Regressor  Results Train:')\n",
        "print(\"Test score: {:.2f}\".format(knn.score(X_train, y_train)))# Оценка тренировочной выборки\n",
        "print('K Neighbors Regressor  Results:')\n",
        "print('KNN_MAE: ', round(mean_absolute_error(y_test, y_pred_knn)))\n",
        "print(\"Test score: {:.2f}\".format(knn.score(X_test, y_test)))# Оценка тестовой выборки"
      ]
    },
    {
      "cell_type": "markdown",
      "id": "5bf724c7",
      "metadata": {
        "id": "5bf724c7"
      },
      "source": [
        "Метода градиентного бустинга - Gradient Boosting Regressor"
      ]
    },
    {
      "cell_type": "code",
      "execution_count": 38,
      "id": "bf61c860",
      "metadata": {
        "colab": {
          "base_uri": "https://localhost:8080/"
        },
        "id": "bf61c860",
        "outputId": "c1b95b2d-2e7d-4959-d345-eccb70972342"
      },
      "outputs": [
        {
          "output_type": "stream",
          "name": "stdout",
          "text": [
            "Gradient Boosting Regressor Results Train:\n",
            "Test score: 0.46\n",
            "Gradient Boosting Regressor Results:\n",
            "GBR_MAE:  2\n",
            "Test score: -0.09\n"
          ]
        }
      ],
      "source": [
        "gbr = make_pipeline(StandardScaler(), GradientBoostingRegressor())\n",
        "gbr.fit(X_train, y_train)\n",
        "y_pred_gbr = gbr.predict(X_test)\n",
        "mae_gbr = mean_absolute_error(y_pred_gbr, y_test)\n",
        "\n",
        "print('Gradient Boosting Regressor Results Train:')\n",
        "print(\"Test score: {:.2f}\".format(gbr.score(X_train, y_train))) # Оценка тренировочной выборки\n",
        "print('Gradient Boosting Regressor Results:')\n",
        "print('GBR_MAE: ', round(mean_absolute_error(y_test, y_pred_gbr)))\n",
        "\n",
        "print(\"Test score: {:.2f}\".format(gbr.score(X_test, y_test)))# Оценка тестовой выборки"
      ]
    },
    {
      "cell_type": "markdown",
      "id": "0f4c003c",
      "metadata": {
        "id": "0f4c003c"
      },
      "source": [
        "сравним наши модели по метрике МАЕ"
      ]
    },
    {
      "cell_type": "code",
      "execution_count": 39,
      "id": "111bcc85",
      "metadata": {
        "id": "111bcc85"
      },
      "outputs": [],
      "source": [
        "#сравним наши модели по метрике МАЕ\n",
        "mae_df = {'Регрессор': ['RandomForest', 'Linear Regression', 'KNeighbors', 'DecisionTree', 'Gradient Boosting Regressor'], 'MAE': [mae_rfr, mae_lr, mae_knr, mae_dtr, mae_gbr]} \n",
        "\n",
        "mae_df = pd.DataFrame(mae_df)"
      ]
    },
    {
      "cell_type": "code",
      "execution_count": 29,
      "id": "9eea4d7b",
      "metadata": {
        "colab": {
          "base_uri": "https://localhost:8080/",
          "height": 206
        },
        "id": "9eea4d7b",
        "outputId": "f5c711c8-08c6-4836-8352-fc61200daf22"
      },
      "outputs": [
        {
          "output_type": "execute_result",
          "data": {
            "text/plain": [
              "                     Регрессор       MAE\n",
              "0                 RandomForest  2.415135\n",
              "1            Linear Regression  2.414573\n",
              "2                   KNeighbors  2.661645\n",
              "3                 DecisionTree  3.496319\n",
              "4  Gradient Boosting Regressor  2.493065"
            ],
            "text/html": [
              "\n",
              "  <div id=\"df-f3cffd0a-9bd4-43d2-bf11-25c6610d66ef\">\n",
              "    <div class=\"colab-df-container\">\n",
              "      <div>\n",
              "<style scoped>\n",
              "    .dataframe tbody tr th:only-of-type {\n",
              "        vertical-align: middle;\n",
              "    }\n",
              "\n",
              "    .dataframe tbody tr th {\n",
              "        vertical-align: top;\n",
              "    }\n",
              "\n",
              "    .dataframe thead th {\n",
              "        text-align: right;\n",
              "    }\n",
              "</style>\n",
              "<table border=\"1\" class=\"dataframe\">\n",
              "  <thead>\n",
              "    <tr style=\"text-align: right;\">\n",
              "      <th></th>\n",
              "      <th>Регрессор</th>\n",
              "      <th>MAE</th>\n",
              "    </tr>\n",
              "  </thead>\n",
              "  <tbody>\n",
              "    <tr>\n",
              "      <th>0</th>\n",
              "      <td>RandomForest</td>\n",
              "      <td>2.415135</td>\n",
              "    </tr>\n",
              "    <tr>\n",
              "      <th>1</th>\n",
              "      <td>Linear Regression</td>\n",
              "      <td>2.414573</td>\n",
              "    </tr>\n",
              "    <tr>\n",
              "      <th>2</th>\n",
              "      <td>KNeighbors</td>\n",
              "      <td>2.661645</td>\n",
              "    </tr>\n",
              "    <tr>\n",
              "      <th>3</th>\n",
              "      <td>DecisionTree</td>\n",
              "      <td>3.496319</td>\n",
              "    </tr>\n",
              "    <tr>\n",
              "      <th>4</th>\n",
              "      <td>Gradient Boosting Regressor</td>\n",
              "      <td>2.493065</td>\n",
              "    </tr>\n",
              "  </tbody>\n",
              "</table>\n",
              "</div>\n",
              "      <button class=\"colab-df-convert\" onclick=\"convertToInteractive('df-f3cffd0a-9bd4-43d2-bf11-25c6610d66ef')\"\n",
              "              title=\"Convert this dataframe to an interactive table.\"\n",
              "              style=\"display:none;\">\n",
              "        \n",
              "  <svg xmlns=\"http://www.w3.org/2000/svg\" height=\"24px\"viewBox=\"0 0 24 24\"\n",
              "       width=\"24px\">\n",
              "    <path d=\"M0 0h24v24H0V0z\" fill=\"none\"/>\n",
              "    <path d=\"M18.56 5.44l.94 2.06.94-2.06 2.06-.94-2.06-.94-.94-2.06-.94 2.06-2.06.94zm-11 1L8.5 8.5l.94-2.06 2.06-.94-2.06-.94L8.5 2.5l-.94 2.06-2.06.94zm10 10l.94 2.06.94-2.06 2.06-.94-2.06-.94-.94-2.06-.94 2.06-2.06.94z\"/><path d=\"M17.41 7.96l-1.37-1.37c-.4-.4-.92-.59-1.43-.59-.52 0-1.04.2-1.43.59L10.3 9.45l-7.72 7.72c-.78.78-.78 2.05 0 2.83L4 21.41c.39.39.9.59 1.41.59.51 0 1.02-.2 1.41-.59l7.78-7.78 2.81-2.81c.8-.78.8-2.07 0-2.86zM5.41 20L4 18.59l7.72-7.72 1.47 1.35L5.41 20z\"/>\n",
              "  </svg>\n",
              "      </button>\n",
              "      \n",
              "  <style>\n",
              "    .colab-df-container {\n",
              "      display:flex;\n",
              "      flex-wrap:wrap;\n",
              "      gap: 12px;\n",
              "    }\n",
              "\n",
              "    .colab-df-convert {\n",
              "      background-color: #E8F0FE;\n",
              "      border: none;\n",
              "      border-radius: 50%;\n",
              "      cursor: pointer;\n",
              "      display: none;\n",
              "      fill: #1967D2;\n",
              "      height: 32px;\n",
              "      padding: 0 0 0 0;\n",
              "      width: 32px;\n",
              "    }\n",
              "\n",
              "    .colab-df-convert:hover {\n",
              "      background-color: #E2EBFA;\n",
              "      box-shadow: 0px 1px 2px rgba(60, 64, 67, 0.3), 0px 1px 3px 1px rgba(60, 64, 67, 0.15);\n",
              "      fill: #174EA6;\n",
              "    }\n",
              "\n",
              "    [theme=dark] .colab-df-convert {\n",
              "      background-color: #3B4455;\n",
              "      fill: #D2E3FC;\n",
              "    }\n",
              "\n",
              "    [theme=dark] .colab-df-convert:hover {\n",
              "      background-color: #434B5C;\n",
              "      box-shadow: 0px 1px 3px 1px rgba(0, 0, 0, 0.15);\n",
              "      filter: drop-shadow(0px 1px 2px rgba(0, 0, 0, 0.3));\n",
              "      fill: #FFFFFF;\n",
              "    }\n",
              "  </style>\n",
              "\n",
              "      <script>\n",
              "        const buttonEl =\n",
              "          document.querySelector('#df-f3cffd0a-9bd4-43d2-bf11-25c6610d66ef button.colab-df-convert');\n",
              "        buttonEl.style.display =\n",
              "          google.colab.kernel.accessAllowed ? 'block' : 'none';\n",
              "\n",
              "        async function convertToInteractive(key) {\n",
              "          const element = document.querySelector('#df-f3cffd0a-9bd4-43d2-bf11-25c6610d66ef');\n",
              "          const dataTable =\n",
              "            await google.colab.kernel.invokeFunction('convertToInteractive',\n",
              "                                                     [key], {});\n",
              "          if (!dataTable) return;\n",
              "\n",
              "          const docLinkHtml = 'Like what you see? Visit the ' +\n",
              "            '<a target=\"_blank\" href=https://colab.research.google.com/notebooks/data_table.ipynb>data table notebook</a>'\n",
              "            + ' to learn more about interactive tables.';\n",
              "          element.innerHTML = '';\n",
              "          dataTable['output_type'] = 'display_data';\n",
              "          await google.colab.output.renderOutput(dataTable, element);\n",
              "          const docLink = document.createElement('div');\n",
              "          docLink.innerHTML = docLinkHtml;\n",
              "          element.appendChild(docLink);\n",
              "        }\n",
              "      </script>\n",
              "    </div>\n",
              "  </div>\n",
              "  "
            ]
          },
          "metadata": {},
          "execution_count": 29
        }
      ],
      "source": [
        "mae_df"
      ]
    },
    {
      "cell_type": "markdown",
      "id": "c8d9ef2b",
      "metadata": {
        "id": "c8d9ef2b"
      },
      "source": [
        "Проведем поиск  по сетке гиперпараметров с перекрестной проверкой, количество блоков равно 10 (cv = 10), для \n",
        "модели линейной регрессии "
      ]
    },
    {
      "cell_type": "code",
      "execution_count": 40,
      "id": "8424017b",
      "metadata": {
        "colab": {
          "base_uri": "https://localhost:8080/"
        },
        "id": "8424017b",
        "outputId": "ddad8615-fd71-4bb3-cba4-f1189a85535c"
      },
      "outputs": [
        {
          "output_type": "execute_result",
          "data": {
            "text/plain": [
              "GridSearchCV(cv=10, estimator=Ridge(),\n",
              "             param_grid={'alpha': [1e-15, 1e-10, 1e-08, 0.001, 0.01, 1, 5, 10,\n",
              "                                   20, 30, 35, 40, 45, 50, 55, 100]},\n",
              "             scoring='neg_mean_squared_error')"
            ]
          },
          "metadata": {},
          "execution_count": 40
        }
      ],
      "source": [
        "ridge=Ridge()\n",
        "parameters={'alpha':[1e-15,1e-10,1e-8,1e-3,1e-2,1,5,10,20,30,35,40,45,50,55,100]}\n",
        "ridge_regressor=GridSearchCV(ridge,parameters,scoring='neg_mean_squared_error',cv=10)\n",
        "ridge_regressor.fit(X_train,y_train)"
      ]
    },
    {
      "cell_type": "code",
      "execution_count": 41,
      "id": "823eb09a",
      "metadata": {
        "colab": {
          "base_uri": "https://localhost:8080/"
        },
        "id": "823eb09a",
        "outputId": "bc318e08-af3f-4e35-9c44-457536b90408"
      },
      "outputs": [
        {
          "output_type": "stream",
          "name": "stdout",
          "text": [
            "{'alpha': 100}\n",
            "-9.683329698909699\n"
          ]
        }
      ],
      "source": [
        "print(ridge_regressor.best_params_)\n",
        "print(ridge_regressor.best_score_)"
      ]
    },
    {
      "cell_type": "code",
      "execution_count": 42,
      "id": "7280a696",
      "metadata": {
        "id": "7280a696"
      },
      "outputs": [],
      "source": [
        "prediction_ridge=ridge_regressor.predict(X_test)"
      ]
    },
    {
      "cell_type": "code",
      "execution_count": null,
      "id": "039f2d71",
      "metadata": {
        "scrolled": true,
        "id": "039f2d71"
      },
      "outputs": [],
      "source": [
        "prediction_ridge"
      ]
    },
    {
      "cell_type": "code",
      "execution_count": 43,
      "id": "3bdfd514",
      "metadata": {
        "colab": {
          "base_uri": "https://localhost:8080/"
        },
        "id": "3bdfd514",
        "outputId": "e9111626-4a4a-4623-f7e5-2043acc5f9be"
      },
      "outputs": [
        {
          "output_type": "stream",
          "name": "stdout",
          "text": [
            "lr_MAE_ridge:  2.4154\n"
          ]
        }
      ],
      "source": [
        "print('lr_MAE_ridge: ', round(mean_absolute_error(y_test, prediction_ridge),4))"
      ]
    }
  ],
  "metadata": {
    "colab": {
      "provenance": []
    },
    "kernelspec": {
      "display_name": "Python 3 (ipykernel)",
      "language": "python",
      "name": "python3"
    },
    "language_info": {
      "codemirror_mode": {
        "name": "ipython",
        "version": 3
      },
      "file_extension": ".py",
      "mimetype": "text/x-python",
      "name": "python",
      "nbconvert_exporter": "python",
      "pygments_lexer": "ipython3",
      "version": "3.9.12"
    },
    "toc": {
      "base_numbering": 1,
      "nav_menu": {},
      "number_sections": true,
      "sideBar": false,
      "skip_h1_title": true,
      "title_cell": "Table of Contents",
      "title_sidebar": "Contents",
      "toc_cell": true,
      "toc_position": {
        "height": "47.7px",
        "left": "69px",
        "top": "132.125px",
        "width": "159px"
      },
      "toc_section_display": false,
      "toc_window_display": true
    },
    "varInspector": {
      "cols": {
        "lenName": 16,
        "lenType": 16,
        "lenVar": 40
      },
      "kernels_config": {
        "python": {
          "delete_cmd_postfix": "",
          "delete_cmd_prefix": "del ",
          "library": "var_list.py",
          "varRefreshCmd": "print(var_dic_list())"
        },
        "r": {
          "delete_cmd_postfix": ") ",
          "delete_cmd_prefix": "rm(",
          "library": "var_list.r",
          "varRefreshCmd": "cat(var_dic_list()) "
        }
      },
      "types_to_exclude": [
        "module",
        "function",
        "builtin_function_or_method",
        "instance",
        "_Feature"
      ],
      "window_display": false
    }
  },
  "nbformat": 4,
  "nbformat_minor": 5
}